{
 "cells": [
  {
   "cell_type": "code",
   "execution_count": 1,
   "id": "0bed0aef-d4fe-4de3-be69-40f1f18d0287",
   "metadata": {},
   "outputs": [],
   "source": [
    "import numpy as np\n",
    "import matplotlib.pyplot as plt\n",
    "import os\n",
    "import cv2\n",
    "import pandas as pd\n",
    "from sklearn.cluster import KMeans\n",
    "from ipywidgets import interactive\n",
    "import torch\n",
    "from torchvision import transforms\n",
    "import tensorflow as tf\n",
    "from sklearn.model_selection import train_test_split\n",
    "from torch.utils.data import Dataset, DataLoader"
   ]
  },
  {
   "cell_type": "code",
   "execution_count": 2,
   "id": "ed336fd7",
   "metadata": {},
   "outputs": [
    {
     "data": {
      "text/plain": [
       "(True, 'NVIDIA GeForce RTX 3070 Ti Laptop GPU')"
      ]
     },
     "execution_count": 2,
     "metadata": {},
     "output_type": "execute_result"
    }
   ],
   "source": [
    "torch.cuda.is_available(), torch.cuda.get_device_name(0)"
   ]
  },
  {
   "cell_type": "code",
   "execution_count": 3,
   "id": "b10150ac",
   "metadata": {},
   "outputs": [],
   "source": [
    "base_path = 'C:\\\\Users\\\\rohit\\\\.cache\\\\kagglehub\\\\datasets\\\\happyharrycn\\\\uw-madison-gi-tract-image-segmentation-dataset\\\\versions\\\\1\\\\dataset'"
   ]
  },
  {
   "cell_type": "code",
   "execution_count": 4,
   "id": "7bb411cc",
   "metadata": {},
   "outputs": [
    {
     "data": {
      "text/plain": [
       "'C:\\\\Users\\\\rohit\\\\.cache\\\\kagglehub\\\\datasets\\\\happyharrycn\\\\uw-madison-gi-tract-image-segmentation-dataset\\\\versions\\\\1\\\\dataset'"
      ]
     },
     "execution_count": 4,
     "metadata": {},
     "output_type": "execute_result"
    }
   ],
   "source": [
    "base_path"
   ]
  },
  {
   "cell_type": "code",
   "execution_count": 5,
   "id": "dd391d77",
   "metadata": {},
   "outputs": [],
   "source": [
    "scans = os.path.join(base_path, 'case2', 'case2_day5', 'scans')\n",
    "contours = os.path.join(base_path, 'case2', 'case2_day5', 'contours','masks_rle.csv')"
   ]
  },
  {
   "cell_type": "code",
   "execution_count": 6,
   "id": "052e7a60",
   "metadata": {},
   "outputs": [
    {
     "data": {
      "text/plain": [
       "'C:\\\\Users\\\\rohit\\\\.cache\\\\kagglehub\\\\datasets\\\\happyharrycn\\\\uw-madison-gi-tract-image-segmentation-dataset\\\\versions\\\\1\\\\dataset\\\\case2\\\\case2_day5\\\\scans'"
      ]
     },
     "execution_count": 6,
     "metadata": {},
     "output_type": "execute_result"
    }
   ],
   "source": [
    "scans"
   ]
  },
  {
   "cell_type": "code",
   "execution_count": 7,
   "id": "c8b26c29",
   "metadata": {},
   "outputs": [],
   "source": [
    "# hand coded color scheme for visualization (order RGB)\n",
    "default_color_dict = {0 : (255/255., 102/255., 102/255.), #'ampulla_of_vater'\n",
    "                      1 : (255/255., 178/255., 102/255.), #'large_bowel'\n",
    "                      2 : (102/255., 255/255., 102/255.), #'pyloric_sphincter'\n",
    "                      3 : (102/255., 255/255., 255/255.), #'small_bowel'\n",
    "                      4 : (178/255., 102/255., 255/255.)} #'stomach'\n",
    "# reference dict for mask type\n",
    "mask_dict = {0 : 'ampulla of vater',\n",
    "             1 : 'large bowel',\n",
    "             2 : 'pyloric sphincter',\n",
    "             3 : 'small bowel',\n",
    "             4 : 'stomach'}"
   ]
  },
  {
   "cell_type": "code",
   "execution_count": 8,
   "id": "08bb2b94",
   "metadata": {},
   "outputs": [],
   "source": [
    "def process_image(img):\n",
    "    gamma = 0.6\n",
    "    img = img.astype(np.float32)\n",
    "    img = img ** gamma\n",
    "    if np.max(img) == 0:\n",
    "        return np.zeros_like(img)\n",
    "    else:\n",
    "        img = img / np.max(img)\n",
    "    return img"
   ]
  },
  {
   "cell_type": "code",
   "execution_count": 9,
   "id": "cac763de",
   "metadata": {},
   "outputs": [],
   "source": [
    "def rle_decode(mask_rle, shape, dtype=np.uint8):\n",
    "    '''\n",
    "    Helper function for run-length decoding\n",
    "    ref.: https://www.kaggle.com/stainsby/fast-tested-rle\n",
    "    Inputs:\n",
    "        mask_rle: string formated RLE\n",
    "        shape: (height,width) of array to return\n",
    "        dtype: data type of array to return (default: uint8)\n",
    "    Returns\n",
    "        numpy array, 1 - mask, 0 - background\n",
    "    '''\n",
    "    s = mask_rle.split()\n",
    "    starts, lengths = [np.asarray(x, dtype=int) for x in (s[0:][::2], s[1:][::2])]\n",
    "    starts -= 1\n",
    "    ends = starts + lengths\n",
    "    img = np.zeros(shape[0]*shape[1], dtype=dtype)\n",
    "    for lo, hi in zip(starts, ends):\n",
    "        img[lo:hi] = 1\n",
    "    return img.reshape(shape)"
   ]
  },
  {
   "cell_type": "code",
   "execution_count": 10,
   "id": "ee55386f",
   "metadata": {},
   "outputs": [],
   "source": [
    "samples = []\n",
    "for root, dirs, files in os.walk(base_path):\n",
    "    if 'contours' in root:\n",
    "       samples.append(os.path.dirname(root))"
   ]
  },
  {
   "cell_type": "code",
   "execution_count": 11,
   "id": "2c685e57",
   "metadata": {},
   "outputs": [
    {
     "data": {
      "text/plain": [
       "467"
      ]
     },
     "execution_count": 11,
     "metadata": {},
     "output_type": "execute_result"
    }
   ],
   "source": [
    "len(samples)"
   ]
  },
  {
   "cell_type": "code",
   "execution_count": 12,
   "id": "ebb265dd",
   "metadata": {},
   "outputs": [],
   "source": [
    "col = []\n",
    "for sample in samples:\n",
    "    for root, dir, files in os.walk(sample):\n",
    "        if 'scans' in root:\n",
    "            if len(files) == 80:\n",
    "                samples.remove(sample)"
   ]
  },
  {
   "cell_type": "code",
   "execution_count": 13,
   "id": "56cb7c60",
   "metadata": {},
   "outputs": [
    {
     "name": "stdout",
     "output_type": "stream",
     "text": [
      "C:\\Users\\rohit\\.cache\\kagglehub\\datasets\\happyharrycn\\uw-madison-gi-tract-image-segmentation-dataset\\versions\\1\\dataset\\case117\\case117_day15\\scans\n",
      "C:\\Users\\rohit\\.cache\\kagglehub\\datasets\\happyharrycn\\uw-madison-gi-tract-image-segmentation-dataset\\versions\\1\\dataset\\case146\\case146_day26\\scans\n",
      "C:\\Users\\rohit\\.cache\\kagglehub\\datasets\\happyharrycn\\uw-madison-gi-tract-image-segmentation-dataset\\versions\\1\\dataset\\case34\\case34_day15\\scans\n",
      "C:\\Users\\rohit\\.cache\\kagglehub\\datasets\\happyharrycn\\uw-madison-gi-tract-image-segmentation-dataset\\versions\\1\\dataset\\case35\\case35_day13\\scans\n"
     ]
    }
   ],
   "source": [
    "col = []\n",
    "for sample in samples:\n",
    "    for root, dir, files in os.walk(sample):\n",
    "        if 'scans' in root:\n",
    "            if len(files) == 80:\n",
    "                print(root)\n",
    "                samples.remove(sample)"
   ]
  },
  {
   "cell_type": "code",
   "execution_count": 14,
   "id": "457d74e8",
   "metadata": {},
   "outputs": [
    {
     "data": {
      "text/plain": [
       "['C:\\\\Users\\\\rohit\\\\.cache\\\\kagglehub\\\\datasets\\\\happyharrycn\\\\uw-madison-gi-tract-image-segmentation-dataset\\\\versions\\\\1\\\\dataset\\\\case101\\\\case101_day20',\n",
       " 'C:\\\\Users\\\\rohit\\\\.cache\\\\kagglehub\\\\datasets\\\\happyharrycn\\\\uw-madison-gi-tract-image-segmentation-dataset\\\\versions\\\\1\\\\dataset\\\\case101\\\\case101_day22',\n",
       " 'C:\\\\Users\\\\rohit\\\\.cache\\\\kagglehub\\\\datasets\\\\happyharrycn\\\\uw-madison-gi-tract-image-segmentation-dataset\\\\versions\\\\1\\\\dataset\\\\case101\\\\case101_day26',\n",
       " 'C:\\\\Users\\\\rohit\\\\.cache\\\\kagglehub\\\\datasets\\\\happyharrycn\\\\uw-madison-gi-tract-image-segmentation-dataset\\\\versions\\\\1\\\\dataset\\\\case101\\\\case101_day32',\n",
       " 'C:\\\\Users\\\\rohit\\\\.cache\\\\kagglehub\\\\datasets\\\\happyharrycn\\\\uw-madison-gi-tract-image-segmentation-dataset\\\\versions\\\\1\\\\dataset\\\\case102\\\\case102_day0',\n",
       " 'C:\\\\Users\\\\rohit\\\\.cache\\\\kagglehub\\\\datasets\\\\happyharrycn\\\\uw-madison-gi-tract-image-segmentation-dataset\\\\versions\\\\1\\\\dataset\\\\case105\\\\case105_day0',\n",
       " 'C:\\\\Users\\\\rohit\\\\.cache\\\\kagglehub\\\\datasets\\\\happyharrycn\\\\uw-madison-gi-tract-image-segmentation-dataset\\\\versions\\\\1\\\\dataset\\\\case105\\\\case105_day11',\n",
       " 'C:\\\\Users\\\\rohit\\\\.cache\\\\kagglehub\\\\datasets\\\\happyharrycn\\\\uw-madison-gi-tract-image-segmentation-dataset\\\\versions\\\\1\\\\dataset\\\\case105\\\\case105_day14',\n",
       " 'C:\\\\Users\\\\rohit\\\\.cache\\\\kagglehub\\\\datasets\\\\happyharrycn\\\\uw-madison-gi-tract-image-segmentation-dataset\\\\versions\\\\1\\\\dataset\\\\case105\\\\case105_day16',\n",
       " 'C:\\\\Users\\\\rohit\\\\.cache\\\\kagglehub\\\\datasets\\\\happyharrycn\\\\uw-madison-gi-tract-image-segmentation-dataset\\\\versions\\\\1\\\\dataset\\\\case105\\\\case105_day18',\n",
       " 'C:\\\\Users\\\\rohit\\\\.cache\\\\kagglehub\\\\datasets\\\\happyharrycn\\\\uw-madison-gi-tract-image-segmentation-dataset\\\\versions\\\\1\\\\dataset\\\\case107\\\\case107_day0',\n",
       " 'C:\\\\Users\\\\rohit\\\\.cache\\\\kagglehub\\\\datasets\\\\happyharrycn\\\\uw-madison-gi-tract-image-segmentation-dataset\\\\versions\\\\1\\\\dataset\\\\case107\\\\case107_day19',\n",
       " 'C:\\\\Users\\\\rohit\\\\.cache\\\\kagglehub\\\\datasets\\\\happyharrycn\\\\uw-madison-gi-tract-image-segmentation-dataset\\\\versions\\\\1\\\\dataset\\\\case107\\\\case107_day21',\n",
       " 'C:\\\\Users\\\\rohit\\\\.cache\\\\kagglehub\\\\datasets\\\\happyharrycn\\\\uw-madison-gi-tract-image-segmentation-dataset\\\\versions\\\\1\\\\dataset\\\\case107\\\\case107_day23',\n",
       " 'C:\\\\Users\\\\rohit\\\\.cache\\\\kagglehub\\\\datasets\\\\happyharrycn\\\\uw-madison-gi-tract-image-segmentation-dataset\\\\versions\\\\1\\\\dataset\\\\case107\\\\case107_day26',\n",
       " 'C:\\\\Users\\\\rohit\\\\.cache\\\\kagglehub\\\\datasets\\\\happyharrycn\\\\uw-madison-gi-tract-image-segmentation-dataset\\\\versions\\\\1\\\\dataset\\\\case108\\\\case108_day0',\n",
       " 'C:\\\\Users\\\\rohit\\\\.cache\\\\kagglehub\\\\datasets\\\\happyharrycn\\\\uw-madison-gi-tract-image-segmentation-dataset\\\\versions\\\\1\\\\dataset\\\\case108\\\\case108_day10',\n",
       " 'C:\\\\Users\\\\rohit\\\\.cache\\\\kagglehub\\\\datasets\\\\happyharrycn\\\\uw-madison-gi-tract-image-segmentation-dataset\\\\versions\\\\1\\\\dataset\\\\case108\\\\case108_day13',\n",
       " 'C:\\\\Users\\\\rohit\\\\.cache\\\\kagglehub\\\\datasets\\\\happyharrycn\\\\uw-madison-gi-tract-image-segmentation-dataset\\\\versions\\\\1\\\\dataset\\\\case108\\\\case108_day15',\n",
       " 'C:\\\\Users\\\\rohit\\\\.cache\\\\kagglehub\\\\datasets\\\\happyharrycn\\\\uw-madison-gi-tract-image-segmentation-dataset\\\\versions\\\\1\\\\dataset\\\\case108\\\\case108_day8',\n",
       " 'C:\\\\Users\\\\rohit\\\\.cache\\\\kagglehub\\\\datasets\\\\happyharrycn\\\\uw-madison-gi-tract-image-segmentation-dataset\\\\versions\\\\1\\\\dataset\\\\case11\\\\case11_day0',\n",
       " 'C:\\\\Users\\\\rohit\\\\.cache\\\\kagglehub\\\\datasets\\\\happyharrycn\\\\uw-madison-gi-tract-image-segmentation-dataset\\\\versions\\\\1\\\\dataset\\\\case11\\\\case11_day12',\n",
       " 'C:\\\\Users\\\\rohit\\\\.cache\\\\kagglehub\\\\datasets\\\\happyharrycn\\\\uw-madison-gi-tract-image-segmentation-dataset\\\\versions\\\\1\\\\dataset\\\\case11\\\\case11_day13',\n",
       " 'C:\\\\Users\\\\rohit\\\\.cache\\\\kagglehub\\\\datasets\\\\happyharrycn\\\\uw-madison-gi-tract-image-segmentation-dataset\\\\versions\\\\1\\\\dataset\\\\case11\\\\case11_day14',\n",
       " 'C:\\\\Users\\\\rohit\\\\.cache\\\\kagglehub\\\\datasets\\\\happyharrycn\\\\uw-madison-gi-tract-image-segmentation-dataset\\\\versions\\\\1\\\\dataset\\\\case11\\\\case11_day15',\n",
       " 'C:\\\\Users\\\\rohit\\\\.cache\\\\kagglehub\\\\datasets\\\\happyharrycn\\\\uw-madison-gi-tract-image-segmentation-dataset\\\\versions\\\\1\\\\dataset\\\\case110\\\\case110_day12',\n",
       " 'C:\\\\Users\\\\rohit\\\\.cache\\\\kagglehub\\\\datasets\\\\happyharrycn\\\\uw-madison-gi-tract-image-segmentation-dataset\\\\versions\\\\1\\\\dataset\\\\case110\\\\case110_day16',\n",
       " 'C:\\\\Users\\\\rohit\\\\.cache\\\\kagglehub\\\\datasets\\\\happyharrycn\\\\uw-madison-gi-tract-image-segmentation-dataset\\\\versions\\\\1\\\\dataset\\\\case110\\\\case110_day17',\n",
       " 'C:\\\\Users\\\\rohit\\\\.cache\\\\kagglehub\\\\datasets\\\\happyharrycn\\\\uw-madison-gi-tract-image-segmentation-dataset\\\\versions\\\\1\\\\dataset\\\\case110\\\\case110_day22',\n",
       " 'C:\\\\Users\\\\rohit\\\\.cache\\\\kagglehub\\\\datasets\\\\happyharrycn\\\\uw-madison-gi-tract-image-segmentation-dataset\\\\versions\\\\1\\\\dataset\\\\case111\\\\case111_day0',\n",
       " 'C:\\\\Users\\\\rohit\\\\.cache\\\\kagglehub\\\\datasets\\\\happyharrycn\\\\uw-madison-gi-tract-image-segmentation-dataset\\\\versions\\\\1\\\\dataset\\\\case111\\\\case111_day19',\n",
       " 'C:\\\\Users\\\\rohit\\\\.cache\\\\kagglehub\\\\datasets\\\\happyharrycn\\\\uw-madison-gi-tract-image-segmentation-dataset\\\\versions\\\\1\\\\dataset\\\\case111\\\\case111_day21',\n",
       " 'C:\\\\Users\\\\rohit\\\\.cache\\\\kagglehub\\\\datasets\\\\happyharrycn\\\\uw-madison-gi-tract-image-segmentation-dataset\\\\versions\\\\1\\\\dataset\\\\case112\\\\case112_day0',\n",
       " 'C:\\\\Users\\\\rohit\\\\.cache\\\\kagglehub\\\\datasets\\\\happyharrycn\\\\uw-madison-gi-tract-image-segmentation-dataset\\\\versions\\\\1\\\\dataset\\\\case112\\\\case112_day20',\n",
       " 'C:\\\\Users\\\\rohit\\\\.cache\\\\kagglehub\\\\datasets\\\\happyharrycn\\\\uw-madison-gi-tract-image-segmentation-dataset\\\\versions\\\\1\\\\dataset\\\\case112\\\\case112_day24',\n",
       " 'C:\\\\Users\\\\rohit\\\\.cache\\\\kagglehub\\\\datasets\\\\happyharrycn\\\\uw-madison-gi-tract-image-segmentation-dataset\\\\versions\\\\1\\\\dataset\\\\case112\\\\case112_day26',\n",
       " 'C:\\\\Users\\\\rohit\\\\.cache\\\\kagglehub\\\\datasets\\\\happyharrycn\\\\uw-madison-gi-tract-image-segmentation-dataset\\\\versions\\\\1\\\\dataset\\\\case112\\\\case112_day30',\n",
       " 'C:\\\\Users\\\\rohit\\\\.cache\\\\kagglehub\\\\datasets\\\\happyharrycn\\\\uw-madison-gi-tract-image-segmentation-dataset\\\\versions\\\\1\\\\dataset\\\\case113\\\\case113_day0',\n",
       " 'C:\\\\Users\\\\rohit\\\\.cache\\\\kagglehub\\\\datasets\\\\happyharrycn\\\\uw-madison-gi-tract-image-segmentation-dataset\\\\versions\\\\1\\\\dataset\\\\case113\\\\case113_day12',\n",
       " 'C:\\\\Users\\\\rohit\\\\.cache\\\\kagglehub\\\\datasets\\\\happyharrycn\\\\uw-madison-gi-tract-image-segmentation-dataset\\\\versions\\\\1\\\\dataset\\\\case113\\\\case113_day16',\n",
       " 'C:\\\\Users\\\\rohit\\\\.cache\\\\kagglehub\\\\datasets\\\\happyharrycn\\\\uw-madison-gi-tract-image-segmentation-dataset\\\\versions\\\\1\\\\dataset\\\\case113\\\\case113_day19',\n",
       " 'C:\\\\Users\\\\rohit\\\\.cache\\\\kagglehub\\\\datasets\\\\happyharrycn\\\\uw-madison-gi-tract-image-segmentation-dataset\\\\versions\\\\1\\\\dataset\\\\case113\\\\case113_day22',\n",
       " 'C:\\\\Users\\\\rohit\\\\.cache\\\\kagglehub\\\\datasets\\\\happyharrycn\\\\uw-madison-gi-tract-image-segmentation-dataset\\\\versions\\\\1\\\\dataset\\\\case114\\\\case114_day0',\n",
       " 'C:\\\\Users\\\\rohit\\\\.cache\\\\kagglehub\\\\datasets\\\\happyharrycn\\\\uw-madison-gi-tract-image-segmentation-dataset\\\\versions\\\\1\\\\dataset\\\\case114\\\\case114_day15',\n",
       " 'C:\\\\Users\\\\rohit\\\\.cache\\\\kagglehub\\\\datasets\\\\happyharrycn\\\\uw-madison-gi-tract-image-segmentation-dataset\\\\versions\\\\1\\\\dataset\\\\case114\\\\case114_day17',\n",
       " 'C:\\\\Users\\\\rohit\\\\.cache\\\\kagglehub\\\\datasets\\\\happyharrycn\\\\uw-madison-gi-tract-image-segmentation-dataset\\\\versions\\\\1\\\\dataset\\\\case114\\\\case114_day19',\n",
       " 'C:\\\\Users\\\\rohit\\\\.cache\\\\kagglehub\\\\datasets\\\\happyharrycn\\\\uw-madison-gi-tract-image-segmentation-dataset\\\\versions\\\\1\\\\dataset\\\\case114\\\\case114_day23',\n",
       " 'C:\\\\Users\\\\rohit\\\\.cache\\\\kagglehub\\\\datasets\\\\happyharrycn\\\\uw-madison-gi-tract-image-segmentation-dataset\\\\versions\\\\1\\\\dataset\\\\case115\\\\case115_day0',\n",
       " 'C:\\\\Users\\\\rohit\\\\.cache\\\\kagglehub\\\\datasets\\\\happyharrycn\\\\uw-madison-gi-tract-image-segmentation-dataset\\\\versions\\\\1\\\\dataset\\\\case116\\\\case116_day0',\n",
       " 'C:\\\\Users\\\\rohit\\\\.cache\\\\kagglehub\\\\datasets\\\\happyharrycn\\\\uw-madison-gi-tract-image-segmentation-dataset\\\\versions\\\\1\\\\dataset\\\\case117\\\\case117_day0',\n",
       " 'C:\\\\Users\\\\rohit\\\\.cache\\\\kagglehub\\\\datasets\\\\happyharrycn\\\\uw-madison-gi-tract-image-segmentation-dataset\\\\versions\\\\1\\\\dataset\\\\case117\\\\case117_day17',\n",
       " 'C:\\\\Users\\\\rohit\\\\.cache\\\\kagglehub\\\\datasets\\\\happyharrycn\\\\uw-madison-gi-tract-image-segmentation-dataset\\\\versions\\\\1\\\\dataset\\\\case118\\\\case118_day14',\n",
       " 'C:\\\\Users\\\\rohit\\\\.cache\\\\kagglehub\\\\datasets\\\\happyharrycn\\\\uw-madison-gi-tract-image-segmentation-dataset\\\\versions\\\\1\\\\dataset\\\\case118\\\\case118_day16',\n",
       " 'C:\\\\Users\\\\rohit\\\\.cache\\\\kagglehub\\\\datasets\\\\happyharrycn\\\\uw-madison-gi-tract-image-segmentation-dataset\\\\versions\\\\1\\\\dataset\\\\case118\\\\case118_day20',\n",
       " 'C:\\\\Users\\\\rohit\\\\.cache\\\\kagglehub\\\\datasets\\\\happyharrycn\\\\uw-madison-gi-tract-image-segmentation-dataset\\\\versions\\\\1\\\\dataset\\\\case118\\\\case118_day21',\n",
       " 'C:\\\\Users\\\\rohit\\\\.cache\\\\kagglehub\\\\datasets\\\\happyharrycn\\\\uw-madison-gi-tract-image-segmentation-dataset\\\\versions\\\\1\\\\dataset\\\\case119\\\\case119_day0',\n",
       " 'C:\\\\Users\\\\rohit\\\\.cache\\\\kagglehub\\\\datasets\\\\happyharrycn\\\\uw-madison-gi-tract-image-segmentation-dataset\\\\versions\\\\1\\\\dataset\\\\case119\\\\case119_day19',\n",
       " 'C:\\\\Users\\\\rohit\\\\.cache\\\\kagglehub\\\\datasets\\\\happyharrycn\\\\uw-madison-gi-tract-image-segmentation-dataset\\\\versions\\\\1\\\\dataset\\\\case119\\\\case119_day20',\n",
       " 'C:\\\\Users\\\\rohit\\\\.cache\\\\kagglehub\\\\datasets\\\\happyharrycn\\\\uw-madison-gi-tract-image-segmentation-dataset\\\\versions\\\\1\\\\dataset\\\\case119\\\\case119_day21',\n",
       " 'C:\\\\Users\\\\rohit\\\\.cache\\\\kagglehub\\\\datasets\\\\happyharrycn\\\\uw-madison-gi-tract-image-segmentation-dataset\\\\versions\\\\1\\\\dataset\\\\case119\\\\case119_day25',\n",
       " 'C:\\\\Users\\\\rohit\\\\.cache\\\\kagglehub\\\\datasets\\\\happyharrycn\\\\uw-madison-gi-tract-image-segmentation-dataset\\\\versions\\\\1\\\\dataset\\\\case120\\\\case120_day22',\n",
       " 'C:\\\\Users\\\\rohit\\\\.cache\\\\kagglehub\\\\datasets\\\\happyharrycn\\\\uw-madison-gi-tract-image-segmentation-dataset\\\\versions\\\\1\\\\dataset\\\\case120\\\\case120_day26',\n",
       " 'C:\\\\Users\\\\rohit\\\\.cache\\\\kagglehub\\\\datasets\\\\happyharrycn\\\\uw-madison-gi-tract-image-segmentation-dataset\\\\versions\\\\1\\\\dataset\\\\case120\\\\case120_day28',\n",
       " 'C:\\\\Users\\\\rohit\\\\.cache\\\\kagglehub\\\\datasets\\\\happyharrycn\\\\uw-madison-gi-tract-image-segmentation-dataset\\\\versions\\\\1\\\\dataset\\\\case120\\\\case120_day29',\n",
       " 'C:\\\\Users\\\\rohit\\\\.cache\\\\kagglehub\\\\datasets\\\\happyharrycn\\\\uw-madison-gi-tract-image-segmentation-dataset\\\\versions\\\\1\\\\dataset\\\\case120\\\\case120_day34',\n",
       " 'C:\\\\Users\\\\rohit\\\\.cache\\\\kagglehub\\\\datasets\\\\happyharrycn\\\\uw-madison-gi-tract-image-segmentation-dataset\\\\versions\\\\1\\\\dataset\\\\case121\\\\case121_day0',\n",
       " 'C:\\\\Users\\\\rohit\\\\.cache\\\\kagglehub\\\\datasets\\\\happyharrycn\\\\uw-madison-gi-tract-image-segmentation-dataset\\\\versions\\\\1\\\\dataset\\\\case121\\\\case121_day14',\n",
       " 'C:\\\\Users\\\\rohit\\\\.cache\\\\kagglehub\\\\datasets\\\\happyharrycn\\\\uw-madison-gi-tract-image-segmentation-dataset\\\\versions\\\\1\\\\dataset\\\\case121\\\\case121_day16',\n",
       " 'C:\\\\Users\\\\rohit\\\\.cache\\\\kagglehub\\\\datasets\\\\happyharrycn\\\\uw-madison-gi-tract-image-segmentation-dataset\\\\versions\\\\1\\\\dataset\\\\case121\\\\case121_day18',\n",
       " 'C:\\\\Users\\\\rohit\\\\.cache\\\\kagglehub\\\\datasets\\\\happyharrycn\\\\uw-madison-gi-tract-image-segmentation-dataset\\\\versions\\\\1\\\\dataset\\\\case121\\\\case121_day20',\n",
       " 'C:\\\\Users\\\\rohit\\\\.cache\\\\kagglehub\\\\datasets\\\\happyharrycn\\\\uw-madison-gi-tract-image-segmentation-dataset\\\\versions\\\\1\\\\dataset\\\\case122\\\\case122_day0',\n",
       " 'C:\\\\Users\\\\rohit\\\\.cache\\\\kagglehub\\\\datasets\\\\happyharrycn\\\\uw-madison-gi-tract-image-segmentation-dataset\\\\versions\\\\1\\\\dataset\\\\case122\\\\case122_day18',\n",
       " 'C:\\\\Users\\\\rohit\\\\.cache\\\\kagglehub\\\\datasets\\\\happyharrycn\\\\uw-madison-gi-tract-image-segmentation-dataset\\\\versions\\\\1\\\\dataset\\\\case122\\\\case122_day24',\n",
       " 'C:\\\\Users\\\\rohit\\\\.cache\\\\kagglehub\\\\datasets\\\\happyharrycn\\\\uw-madison-gi-tract-image-segmentation-dataset\\\\versions\\\\1\\\\dataset\\\\case122\\\\case122_day25',\n",
       " 'C:\\\\Users\\\\rohit\\\\.cache\\\\kagglehub\\\\datasets\\\\happyharrycn\\\\uw-madison-gi-tract-image-segmentation-dataset\\\\versions\\\\1\\\\dataset\\\\case122\\\\case122_day27',\n",
       " 'C:\\\\Users\\\\rohit\\\\.cache\\\\kagglehub\\\\datasets\\\\happyharrycn\\\\uw-madison-gi-tract-image-segmentation-dataset\\\\versions\\\\1\\\\dataset\\\\case123\\\\case123_day0',\n",
       " 'C:\\\\Users\\\\rohit\\\\.cache\\\\kagglehub\\\\datasets\\\\happyharrycn\\\\uw-madison-gi-tract-image-segmentation-dataset\\\\versions\\\\1\\\\dataset\\\\case123\\\\case123_day20',\n",
       " 'C:\\\\Users\\\\rohit\\\\.cache\\\\kagglehub\\\\datasets\\\\happyharrycn\\\\uw-madison-gi-tract-image-segmentation-dataset\\\\versions\\\\1\\\\dataset\\\\case123\\\\case123_day22',\n",
       " 'C:\\\\Users\\\\rohit\\\\.cache\\\\kagglehub\\\\datasets\\\\happyharrycn\\\\uw-madison-gi-tract-image-segmentation-dataset\\\\versions\\\\1\\\\dataset\\\\case123\\\\case123_day23',\n",
       " 'C:\\\\Users\\\\rohit\\\\.cache\\\\kagglehub\\\\datasets\\\\happyharrycn\\\\uw-madison-gi-tract-image-segmentation-dataset\\\\versions\\\\1\\\\dataset\\\\case123\\\\case123_day24',\n",
       " 'C:\\\\Users\\\\rohit\\\\.cache\\\\kagglehub\\\\datasets\\\\happyharrycn\\\\uw-madison-gi-tract-image-segmentation-dataset\\\\versions\\\\1\\\\dataset\\\\case124\\\\case124_day0',\n",
       " 'C:\\\\Users\\\\rohit\\\\.cache\\\\kagglehub\\\\datasets\\\\happyharrycn\\\\uw-madison-gi-tract-image-segmentation-dataset\\\\versions\\\\1\\\\dataset\\\\case124\\\\case124_day19',\n",
       " 'C:\\\\Users\\\\rohit\\\\.cache\\\\kagglehub\\\\datasets\\\\happyharrycn\\\\uw-madison-gi-tract-image-segmentation-dataset\\\\versions\\\\1\\\\dataset\\\\case124\\\\case124_day20',\n",
       " 'C:\\\\Users\\\\rohit\\\\.cache\\\\kagglehub\\\\datasets\\\\happyharrycn\\\\uw-madison-gi-tract-image-segmentation-dataset\\\\versions\\\\1\\\\dataset\\\\case124\\\\case124_day21',\n",
       " 'C:\\\\Users\\\\rohit\\\\.cache\\\\kagglehub\\\\datasets\\\\happyharrycn\\\\uw-madison-gi-tract-image-segmentation-dataset\\\\versions\\\\1\\\\dataset\\\\case124\\\\case124_day23',\n",
       " 'C:\\\\Users\\\\rohit\\\\.cache\\\\kagglehub\\\\datasets\\\\happyharrycn\\\\uw-madison-gi-tract-image-segmentation-dataset\\\\versions\\\\1\\\\dataset\\\\case125\\\\case125_day0',\n",
       " 'C:\\\\Users\\\\rohit\\\\.cache\\\\kagglehub\\\\datasets\\\\happyharrycn\\\\uw-madison-gi-tract-image-segmentation-dataset\\\\versions\\\\1\\\\dataset\\\\case125\\\\case125_day15',\n",
       " 'C:\\\\Users\\\\rohit\\\\.cache\\\\kagglehub\\\\datasets\\\\happyharrycn\\\\uw-madison-gi-tract-image-segmentation-dataset\\\\versions\\\\1\\\\dataset\\\\case125\\\\case125_day16',\n",
       " 'C:\\\\Users\\\\rohit\\\\.cache\\\\kagglehub\\\\datasets\\\\happyharrycn\\\\uw-madison-gi-tract-image-segmentation-dataset\\\\versions\\\\1\\\\dataset\\\\case125\\\\case125_day17',\n",
       " 'C:\\\\Users\\\\rohit\\\\.cache\\\\kagglehub\\\\datasets\\\\happyharrycn\\\\uw-madison-gi-tract-image-segmentation-dataset\\\\versions\\\\1\\\\dataset\\\\case125\\\\case125_day18',\n",
       " 'C:\\\\Users\\\\rohit\\\\.cache\\\\kagglehub\\\\datasets\\\\happyharrycn\\\\uw-madison-gi-tract-image-segmentation-dataset\\\\versions\\\\1\\\\dataset\\\\case129\\\\case129_day0',\n",
       " 'C:\\\\Users\\\\rohit\\\\.cache\\\\kagglehub\\\\datasets\\\\happyharrycn\\\\uw-madison-gi-tract-image-segmentation-dataset\\\\versions\\\\1\\\\dataset\\\\case129\\\\case129_day20',\n",
       " 'C:\\\\Users\\\\rohit\\\\.cache\\\\kagglehub\\\\datasets\\\\happyharrycn\\\\uw-madison-gi-tract-image-segmentation-dataset\\\\versions\\\\1\\\\dataset\\\\case129\\\\case129_day22',\n",
       " 'C:\\\\Users\\\\rohit\\\\.cache\\\\kagglehub\\\\datasets\\\\happyharrycn\\\\uw-madison-gi-tract-image-segmentation-dataset\\\\versions\\\\1\\\\dataset\\\\case129\\\\case129_day24',\n",
       " 'C:\\\\Users\\\\rohit\\\\.cache\\\\kagglehub\\\\datasets\\\\happyharrycn\\\\uw-madison-gi-tract-image-segmentation-dataset\\\\versions\\\\1\\\\dataset\\\\case129\\\\case129_day27',\n",
       " 'C:\\\\Users\\\\rohit\\\\.cache\\\\kagglehub\\\\datasets\\\\happyharrycn\\\\uw-madison-gi-tract-image-segmentation-dataset\\\\versions\\\\1\\\\dataset\\\\case13\\\\case13_day0',\n",
       " 'C:\\\\Users\\\\rohit\\\\.cache\\\\kagglehub\\\\datasets\\\\happyharrycn\\\\uw-madison-gi-tract-image-segmentation-dataset\\\\versions\\\\1\\\\dataset\\\\case13\\\\case13_day3',\n",
       " 'C:\\\\Users\\\\rohit\\\\.cache\\\\kagglehub\\\\datasets\\\\happyharrycn\\\\uw-madison-gi-tract-image-segmentation-dataset\\\\versions\\\\1\\\\dataset\\\\case13\\\\case13_day4',\n",
       " 'C:\\\\Users\\\\rohit\\\\.cache\\\\kagglehub\\\\datasets\\\\happyharrycn\\\\uw-madison-gi-tract-image-segmentation-dataset\\\\versions\\\\1\\\\dataset\\\\case130\\\\case130_day0',\n",
       " 'C:\\\\Users\\\\rohit\\\\.cache\\\\kagglehub\\\\datasets\\\\happyharrycn\\\\uw-madison-gi-tract-image-segmentation-dataset\\\\versions\\\\1\\\\dataset\\\\case130\\\\case130_day20',\n",
       " 'C:\\\\Users\\\\rohit\\\\.cache\\\\kagglehub\\\\datasets\\\\happyharrycn\\\\uw-madison-gi-tract-image-segmentation-dataset\\\\versions\\\\1\\\\dataset\\\\case130\\\\case130_day22',\n",
       " 'C:\\\\Users\\\\rohit\\\\.cache\\\\kagglehub\\\\datasets\\\\happyharrycn\\\\uw-madison-gi-tract-image-segmentation-dataset\\\\versions\\\\1\\\\dataset\\\\case130\\\\case130_day24',\n",
       " 'C:\\\\Users\\\\rohit\\\\.cache\\\\kagglehub\\\\datasets\\\\happyharrycn\\\\uw-madison-gi-tract-image-segmentation-dataset\\\\versions\\\\1\\\\dataset\\\\case130\\\\case130_day28',\n",
       " 'C:\\\\Users\\\\rohit\\\\.cache\\\\kagglehub\\\\datasets\\\\happyharrycn\\\\uw-madison-gi-tract-image-segmentation-dataset\\\\versions\\\\1\\\\dataset\\\\case131\\\\case131_day0',\n",
       " 'C:\\\\Users\\\\rohit\\\\.cache\\\\kagglehub\\\\datasets\\\\happyharrycn\\\\uw-madison-gi-tract-image-segmentation-dataset\\\\versions\\\\1\\\\dataset\\\\case131\\\\case131_day19',\n",
       " 'C:\\\\Users\\\\rohit\\\\.cache\\\\kagglehub\\\\datasets\\\\happyharrycn\\\\uw-madison-gi-tract-image-segmentation-dataset\\\\versions\\\\1\\\\dataset\\\\case131\\\\case131_day21',\n",
       " 'C:\\\\Users\\\\rohit\\\\.cache\\\\kagglehub\\\\datasets\\\\happyharrycn\\\\uw-madison-gi-tract-image-segmentation-dataset\\\\versions\\\\1\\\\dataset\\\\case131\\\\case131_day23',\n",
       " 'C:\\\\Users\\\\rohit\\\\.cache\\\\kagglehub\\\\datasets\\\\happyharrycn\\\\uw-madison-gi-tract-image-segmentation-dataset\\\\versions\\\\1\\\\dataset\\\\case133\\\\case133_day0',\n",
       " 'C:\\\\Users\\\\rohit\\\\.cache\\\\kagglehub\\\\datasets\\\\happyharrycn\\\\uw-madison-gi-tract-image-segmentation-dataset\\\\versions\\\\1\\\\dataset\\\\case133\\\\case133_day23',\n",
       " 'C:\\\\Users\\\\rohit\\\\.cache\\\\kagglehub\\\\datasets\\\\happyharrycn\\\\uw-madison-gi-tract-image-segmentation-dataset\\\\versions\\\\1\\\\dataset\\\\case133\\\\case133_day25',\n",
       " 'C:\\\\Users\\\\rohit\\\\.cache\\\\kagglehub\\\\datasets\\\\happyharrycn\\\\uw-madison-gi-tract-image-segmentation-dataset\\\\versions\\\\1\\\\dataset\\\\case133\\\\case133_day27',\n",
       " 'C:\\\\Users\\\\rohit\\\\.cache\\\\kagglehub\\\\datasets\\\\happyharrycn\\\\uw-madison-gi-tract-image-segmentation-dataset\\\\versions\\\\1\\\\dataset\\\\case133\\\\case133_day29',\n",
       " 'C:\\\\Users\\\\rohit\\\\.cache\\\\kagglehub\\\\datasets\\\\happyharrycn\\\\uw-madison-gi-tract-image-segmentation-dataset\\\\versions\\\\1\\\\dataset\\\\case134\\\\case134_day0',\n",
       " 'C:\\\\Users\\\\rohit\\\\.cache\\\\kagglehub\\\\datasets\\\\happyharrycn\\\\uw-madison-gi-tract-image-segmentation-dataset\\\\versions\\\\1\\\\dataset\\\\case134\\\\case134_day21',\n",
       " 'C:\\\\Users\\\\rohit\\\\.cache\\\\kagglehub\\\\datasets\\\\happyharrycn\\\\uw-madison-gi-tract-image-segmentation-dataset\\\\versions\\\\1\\\\dataset\\\\case134\\\\case134_day22',\n",
       " 'C:\\\\Users\\\\rohit\\\\.cache\\\\kagglehub\\\\datasets\\\\happyharrycn\\\\uw-madison-gi-tract-image-segmentation-dataset\\\\versions\\\\1\\\\dataset\\\\case134\\\\case134_day24',\n",
       " 'C:\\\\Users\\\\rohit\\\\.cache\\\\kagglehub\\\\datasets\\\\happyharrycn\\\\uw-madison-gi-tract-image-segmentation-dataset\\\\versions\\\\1\\\\dataset\\\\case134\\\\case134_day27',\n",
       " 'C:\\\\Users\\\\rohit\\\\.cache\\\\kagglehub\\\\datasets\\\\happyharrycn\\\\uw-madison-gi-tract-image-segmentation-dataset\\\\versions\\\\1\\\\dataset\\\\case135\\\\case135_day0',\n",
       " 'C:\\\\Users\\\\rohit\\\\.cache\\\\kagglehub\\\\datasets\\\\happyharrycn\\\\uw-madison-gi-tract-image-segmentation-dataset\\\\versions\\\\1\\\\dataset\\\\case135\\\\case135_day17',\n",
       " 'C:\\\\Users\\\\rohit\\\\.cache\\\\kagglehub\\\\datasets\\\\happyharrycn\\\\uw-madison-gi-tract-image-segmentation-dataset\\\\versions\\\\1\\\\dataset\\\\case135\\\\case135_day21',\n",
       " 'C:\\\\Users\\\\rohit\\\\.cache\\\\kagglehub\\\\datasets\\\\happyharrycn\\\\uw-madison-gi-tract-image-segmentation-dataset\\\\versions\\\\1\\\\dataset\\\\case135\\\\case135_day23',\n",
       " 'C:\\\\Users\\\\rohit\\\\.cache\\\\kagglehub\\\\datasets\\\\happyharrycn\\\\uw-madison-gi-tract-image-segmentation-dataset\\\\versions\\\\1\\\\dataset\\\\case136\\\\case136_day0',\n",
       " 'C:\\\\Users\\\\rohit\\\\.cache\\\\kagglehub\\\\datasets\\\\happyharrycn\\\\uw-madison-gi-tract-image-segmentation-dataset\\\\versions\\\\1\\\\dataset\\\\case136\\\\case136_day25',\n",
       " 'C:\\\\Users\\\\rohit\\\\.cache\\\\kagglehub\\\\datasets\\\\happyharrycn\\\\uw-madison-gi-tract-image-segmentation-dataset\\\\versions\\\\1\\\\dataset\\\\case136\\\\case136_day27',\n",
       " 'C:\\\\Users\\\\rohit\\\\.cache\\\\kagglehub\\\\datasets\\\\happyharrycn\\\\uw-madison-gi-tract-image-segmentation-dataset\\\\versions\\\\1\\\\dataset\\\\case136\\\\case136_day29',\n",
       " 'C:\\\\Users\\\\rohit\\\\.cache\\\\kagglehub\\\\datasets\\\\happyharrycn\\\\uw-madison-gi-tract-image-segmentation-dataset\\\\versions\\\\1\\\\dataset\\\\case136\\\\case136_day31',\n",
       " 'C:\\\\Users\\\\rohit\\\\.cache\\\\kagglehub\\\\datasets\\\\happyharrycn\\\\uw-madison-gi-tract-image-segmentation-dataset\\\\versions\\\\1\\\\dataset\\\\case137\\\\case137_day0',\n",
       " 'C:\\\\Users\\\\rohit\\\\.cache\\\\kagglehub\\\\datasets\\\\happyharrycn\\\\uw-madison-gi-tract-image-segmentation-dataset\\\\versions\\\\1\\\\dataset\\\\case137\\\\case137_day13',\n",
       " 'C:\\\\Users\\\\rohit\\\\.cache\\\\kagglehub\\\\datasets\\\\happyharrycn\\\\uw-madison-gi-tract-image-segmentation-dataset\\\\versions\\\\1\\\\dataset\\\\case137\\\\case137_day15',\n",
       " 'C:\\\\Users\\\\rohit\\\\.cache\\\\kagglehub\\\\datasets\\\\happyharrycn\\\\uw-madison-gi-tract-image-segmentation-dataset\\\\versions\\\\1\\\\dataset\\\\case137\\\\case137_day18',\n",
       " 'C:\\\\Users\\\\rohit\\\\.cache\\\\kagglehub\\\\datasets\\\\happyharrycn\\\\uw-madison-gi-tract-image-segmentation-dataset\\\\versions\\\\1\\\\dataset\\\\case137\\\\case137_day20',\n",
       " 'C:\\\\Users\\\\rohit\\\\.cache\\\\kagglehub\\\\datasets\\\\happyharrycn\\\\uw-madison-gi-tract-image-segmentation-dataset\\\\versions\\\\1\\\\dataset\\\\case138\\\\case138_day0',\n",
       " 'C:\\\\Users\\\\rohit\\\\.cache\\\\kagglehub\\\\datasets\\\\happyharrycn\\\\uw-madison-gi-tract-image-segmentation-dataset\\\\versions\\\\1\\\\dataset\\\\case138\\\\case138_day11',\n",
       " 'C:\\\\Users\\\\rohit\\\\.cache\\\\kagglehub\\\\datasets\\\\happyharrycn\\\\uw-madison-gi-tract-image-segmentation-dataset\\\\versions\\\\1\\\\dataset\\\\case138\\\\case138_day12',\n",
       " 'C:\\\\Users\\\\rohit\\\\.cache\\\\kagglehub\\\\datasets\\\\happyharrycn\\\\uw-madison-gi-tract-image-segmentation-dataset\\\\versions\\\\1\\\\dataset\\\\case138\\\\case138_day14',\n",
       " 'C:\\\\Users\\\\rohit\\\\.cache\\\\kagglehub\\\\datasets\\\\happyharrycn\\\\uw-madison-gi-tract-image-segmentation-dataset\\\\versions\\\\1\\\\dataset\\\\case138\\\\case138_day15',\n",
       " 'C:\\\\Users\\\\rohit\\\\.cache\\\\kagglehub\\\\datasets\\\\happyharrycn\\\\uw-madison-gi-tract-image-segmentation-dataset\\\\versions\\\\1\\\\dataset\\\\case138\\\\case138_day20',\n",
       " 'C:\\\\Users\\\\rohit\\\\.cache\\\\kagglehub\\\\datasets\\\\happyharrycn\\\\uw-madison-gi-tract-image-segmentation-dataset\\\\versions\\\\1\\\\dataset\\\\case139\\\\case139_day0',\n",
       " 'C:\\\\Users\\\\rohit\\\\.cache\\\\kagglehub\\\\datasets\\\\happyharrycn\\\\uw-madison-gi-tract-image-segmentation-dataset\\\\versions\\\\1\\\\dataset\\\\case139\\\\case139_day14',\n",
       " 'C:\\\\Users\\\\rohit\\\\.cache\\\\kagglehub\\\\datasets\\\\happyharrycn\\\\uw-madison-gi-tract-image-segmentation-dataset\\\\versions\\\\1\\\\dataset\\\\case139\\\\case139_day16',\n",
       " 'C:\\\\Users\\\\rohit\\\\.cache\\\\kagglehub\\\\datasets\\\\happyharrycn\\\\uw-madison-gi-tract-image-segmentation-dataset\\\\versions\\\\1\\\\dataset\\\\case139\\\\case139_day18',\n",
       " 'C:\\\\Users\\\\rohit\\\\.cache\\\\kagglehub\\\\datasets\\\\happyharrycn\\\\uw-madison-gi-tract-image-segmentation-dataset\\\\versions\\\\1\\\\dataset\\\\case140\\\\case140_day0',\n",
       " 'C:\\\\Users\\\\rohit\\\\.cache\\\\kagglehub\\\\datasets\\\\happyharrycn\\\\uw-madison-gi-tract-image-segmentation-dataset\\\\versions\\\\1\\\\dataset\\\\case140\\\\case140_day10',\n",
       " 'C:\\\\Users\\\\rohit\\\\.cache\\\\kagglehub\\\\datasets\\\\happyharrycn\\\\uw-madison-gi-tract-image-segmentation-dataset\\\\versions\\\\1\\\\dataset\\\\case140\\\\case140_day14',\n",
       " 'C:\\\\Users\\\\rohit\\\\.cache\\\\kagglehub\\\\datasets\\\\happyharrycn\\\\uw-madison-gi-tract-image-segmentation-dataset\\\\versions\\\\1\\\\dataset\\\\case140\\\\case140_day20',\n",
       " 'C:\\\\Users\\\\rohit\\\\.cache\\\\kagglehub\\\\datasets\\\\happyharrycn\\\\uw-madison-gi-tract-image-segmentation-dataset\\\\versions\\\\1\\\\dataset\\\\case141\\\\case141_day0',\n",
       " 'C:\\\\Users\\\\rohit\\\\.cache\\\\kagglehub\\\\datasets\\\\happyharrycn\\\\uw-madison-gi-tract-image-segmentation-dataset\\\\versions\\\\1\\\\dataset\\\\case141\\\\case141_day13',\n",
       " 'C:\\\\Users\\\\rohit\\\\.cache\\\\kagglehub\\\\datasets\\\\happyharrycn\\\\uw-madison-gi-tract-image-segmentation-dataset\\\\versions\\\\1\\\\dataset\\\\case141\\\\case141_day27',\n",
       " 'C:\\\\Users\\\\rohit\\\\.cache\\\\kagglehub\\\\datasets\\\\happyharrycn\\\\uw-madison-gi-tract-image-segmentation-dataset\\\\versions\\\\1\\\\dataset\\\\case142\\\\case142_day0',\n",
       " 'C:\\\\Users\\\\rohit\\\\.cache\\\\kagglehub\\\\datasets\\\\happyharrycn\\\\uw-madison-gi-tract-image-segmentation-dataset\\\\versions\\\\1\\\\dataset\\\\case142\\\\case142_day14',\n",
       " 'C:\\\\Users\\\\rohit\\\\.cache\\\\kagglehub\\\\datasets\\\\happyharrycn\\\\uw-madison-gi-tract-image-segmentation-dataset\\\\versions\\\\1\\\\dataset\\\\case142\\\\case142_day16',\n",
       " 'C:\\\\Users\\\\rohit\\\\.cache\\\\kagglehub\\\\datasets\\\\happyharrycn\\\\uw-madison-gi-tract-image-segmentation-dataset\\\\versions\\\\1\\\\dataset\\\\case142\\\\case142_day18',\n",
       " 'C:\\\\Users\\\\rohit\\\\.cache\\\\kagglehub\\\\datasets\\\\happyharrycn\\\\uw-madison-gi-tract-image-segmentation-dataset\\\\versions\\\\1\\\\dataset\\\\case142\\\\case142_day22',\n",
       " 'C:\\\\Users\\\\rohit\\\\.cache\\\\kagglehub\\\\datasets\\\\happyharrycn\\\\uw-madison-gi-tract-image-segmentation-dataset\\\\versions\\\\1\\\\dataset\\\\case143\\\\case143_day0',\n",
       " 'C:\\\\Users\\\\rohit\\\\.cache\\\\kagglehub\\\\datasets\\\\happyharrycn\\\\uw-madison-gi-tract-image-segmentation-dataset\\\\versions\\\\1\\\\dataset\\\\case143\\\\case143_day18',\n",
       " 'C:\\\\Users\\\\rohit\\\\.cache\\\\kagglehub\\\\datasets\\\\happyharrycn\\\\uw-madison-gi-tract-image-segmentation-dataset\\\\versions\\\\1\\\\dataset\\\\case143\\\\case143_day23',\n",
       " 'C:\\\\Users\\\\rohit\\\\.cache\\\\kagglehub\\\\datasets\\\\happyharrycn\\\\uw-madison-gi-tract-image-segmentation-dataset\\\\versions\\\\1\\\\dataset\\\\case143\\\\case143_day42',\n",
       " 'C:\\\\Users\\\\rohit\\\\.cache\\\\kagglehub\\\\datasets\\\\happyharrycn\\\\uw-madison-gi-tract-image-segmentation-dataset\\\\versions\\\\1\\\\dataset\\\\case143\\\\case143_day51',\n",
       " 'C:\\\\Users\\\\rohit\\\\.cache\\\\kagglehub\\\\datasets\\\\happyharrycn\\\\uw-madison-gi-tract-image-segmentation-dataset\\\\versions\\\\1\\\\dataset\\\\case144\\\\case144_day0',\n",
       " 'C:\\\\Users\\\\rohit\\\\.cache\\\\kagglehub\\\\datasets\\\\happyharrycn\\\\uw-madison-gi-tract-image-segmentation-dataset\\\\versions\\\\1\\\\dataset\\\\case144\\\\case144_day14',\n",
       " 'C:\\\\Users\\\\rohit\\\\.cache\\\\kagglehub\\\\datasets\\\\happyharrycn\\\\uw-madison-gi-tract-image-segmentation-dataset\\\\versions\\\\1\\\\dataset\\\\case144\\\\case144_day15',\n",
       " 'C:\\\\Users\\\\rohit\\\\.cache\\\\kagglehub\\\\datasets\\\\happyharrycn\\\\uw-madison-gi-tract-image-segmentation-dataset\\\\versions\\\\1\\\\dataset\\\\case144\\\\case144_day18',\n",
       " 'C:\\\\Users\\\\rohit\\\\.cache\\\\kagglehub\\\\datasets\\\\happyharrycn\\\\uw-madison-gi-tract-image-segmentation-dataset\\\\versions\\\\1\\\\dataset\\\\case144\\\\case144_day22',\n",
       " 'C:\\\\Users\\\\rohit\\\\.cache\\\\kagglehub\\\\datasets\\\\happyharrycn\\\\uw-madison-gi-tract-image-segmentation-dataset\\\\versions\\\\1\\\\dataset\\\\case145\\\\case145_day0',\n",
       " 'C:\\\\Users\\\\rohit\\\\.cache\\\\kagglehub\\\\datasets\\\\happyharrycn\\\\uw-madison-gi-tract-image-segmentation-dataset\\\\versions\\\\1\\\\dataset\\\\case145\\\\case145_day19',\n",
       " 'C:\\\\Users\\\\rohit\\\\.cache\\\\kagglehub\\\\datasets\\\\happyharrycn\\\\uw-madison-gi-tract-image-segmentation-dataset\\\\versions\\\\1\\\\dataset\\\\case145\\\\case145_day20',\n",
       " 'C:\\\\Users\\\\rohit\\\\.cache\\\\kagglehub\\\\datasets\\\\happyharrycn\\\\uw-madison-gi-tract-image-segmentation-dataset\\\\versions\\\\1\\\\dataset\\\\case145\\\\case145_day21',\n",
       " 'C:\\\\Users\\\\rohit\\\\.cache\\\\kagglehub\\\\datasets\\\\happyharrycn\\\\uw-madison-gi-tract-image-segmentation-dataset\\\\versions\\\\1\\\\dataset\\\\case145\\\\case145_day24',\n",
       " 'C:\\\\Users\\\\rohit\\\\.cache\\\\kagglehub\\\\datasets\\\\happyharrycn\\\\uw-madison-gi-tract-image-segmentation-dataset\\\\versions\\\\1\\\\dataset\\\\case146\\\\case146_day0',\n",
       " 'C:\\\\Users\\\\rohit\\\\.cache\\\\kagglehub\\\\datasets\\\\happyharrycn\\\\uw-madison-gi-tract-image-segmentation-dataset\\\\versions\\\\1\\\\dataset\\\\case146\\\\case146_day24',\n",
       " 'C:\\\\Users\\\\rohit\\\\.cache\\\\kagglehub\\\\datasets\\\\happyharrycn\\\\uw-madison-gi-tract-image-segmentation-dataset\\\\versions\\\\1\\\\dataset\\\\case147\\\\case147_day0',\n",
       " 'C:\\\\Users\\\\rohit\\\\.cache\\\\kagglehub\\\\datasets\\\\happyharrycn\\\\uw-madison-gi-tract-image-segmentation-dataset\\\\versions\\\\1\\\\dataset\\\\case147\\\\case147_day14',\n",
       " 'C:\\\\Users\\\\rohit\\\\.cache\\\\kagglehub\\\\datasets\\\\happyharrycn\\\\uw-madison-gi-tract-image-segmentation-dataset\\\\versions\\\\1\\\\dataset\\\\case147\\\\case147_day18',\n",
       " 'C:\\\\Users\\\\rohit\\\\.cache\\\\kagglehub\\\\datasets\\\\happyharrycn\\\\uw-madison-gi-tract-image-segmentation-dataset\\\\versions\\\\1\\\\dataset\\\\case147\\\\case147_day19',\n",
       " 'C:\\\\Users\\\\rohit\\\\.cache\\\\kagglehub\\\\datasets\\\\happyharrycn\\\\uw-madison-gi-tract-image-segmentation-dataset\\\\versions\\\\1\\\\dataset\\\\case147\\\\case147_day20',\n",
       " 'C:\\\\Users\\\\rohit\\\\.cache\\\\kagglehub\\\\datasets\\\\happyharrycn\\\\uw-madison-gi-tract-image-segmentation-dataset\\\\versions\\\\1\\\\dataset\\\\case148\\\\case148_day0',\n",
       " 'C:\\\\Users\\\\rohit\\\\.cache\\\\kagglehub\\\\datasets\\\\happyharrycn\\\\uw-madison-gi-tract-image-segmentation-dataset\\\\versions\\\\1\\\\dataset\\\\case148\\\\case148_day20',\n",
       " 'C:\\\\Users\\\\rohit\\\\.cache\\\\kagglehub\\\\datasets\\\\happyharrycn\\\\uw-madison-gi-tract-image-segmentation-dataset\\\\versions\\\\1\\\\dataset\\\\case148\\\\case148_day22',\n",
       " 'C:\\\\Users\\\\rohit\\\\.cache\\\\kagglehub\\\\datasets\\\\happyharrycn\\\\uw-madison-gi-tract-image-segmentation-dataset\\\\versions\\\\1\\\\dataset\\\\case149\\\\case149_day0',\n",
       " 'C:\\\\Users\\\\rohit\\\\.cache\\\\kagglehub\\\\datasets\\\\happyharrycn\\\\uw-madison-gi-tract-image-segmentation-dataset\\\\versions\\\\1\\\\dataset\\\\case149\\\\case149_day12',\n",
       " 'C:\\\\Users\\\\rohit\\\\.cache\\\\kagglehub\\\\datasets\\\\happyharrycn\\\\uw-madison-gi-tract-image-segmentation-dataset\\\\versions\\\\1\\\\dataset\\\\case149\\\\case149_day15',\n",
       " 'C:\\\\Users\\\\rohit\\\\.cache\\\\kagglehub\\\\datasets\\\\happyharrycn\\\\uw-madison-gi-tract-image-segmentation-dataset\\\\versions\\\\1\\\\dataset\\\\case149\\\\case149_day18',\n",
       " 'C:\\\\Users\\\\rohit\\\\.cache\\\\kagglehub\\\\datasets\\\\happyharrycn\\\\uw-madison-gi-tract-image-segmentation-dataset\\\\versions\\\\1\\\\dataset\\\\case149\\\\case149_day19',\n",
       " 'C:\\\\Users\\\\rohit\\\\.cache\\\\kagglehub\\\\datasets\\\\happyharrycn\\\\uw-madison-gi-tract-image-segmentation-dataset\\\\versions\\\\1\\\\dataset\\\\case15\\\\case15_day0',\n",
       " 'C:\\\\Users\\\\rohit\\\\.cache\\\\kagglehub\\\\datasets\\\\happyharrycn\\\\uw-madison-gi-tract-image-segmentation-dataset\\\\versions\\\\1\\\\dataset\\\\case15\\\\case15_day20',\n",
       " 'C:\\\\Users\\\\rohit\\\\.cache\\\\kagglehub\\\\datasets\\\\happyharrycn\\\\uw-madison-gi-tract-image-segmentation-dataset\\\\versions\\\\1\\\\dataset\\\\case15\\\\case15_day22',\n",
       " 'C:\\\\Users\\\\rohit\\\\.cache\\\\kagglehub\\\\datasets\\\\happyharrycn\\\\uw-madison-gi-tract-image-segmentation-dataset\\\\versions\\\\1\\\\dataset\\\\case15\\\\case15_day23',\n",
       " 'C:\\\\Users\\\\rohit\\\\.cache\\\\kagglehub\\\\datasets\\\\happyharrycn\\\\uw-madison-gi-tract-image-segmentation-dataset\\\\versions\\\\1\\\\dataset\\\\case150\\\\case150_day0',\n",
       " 'C:\\\\Users\\\\rohit\\\\.cache\\\\kagglehub\\\\datasets\\\\happyharrycn\\\\uw-madison-gi-tract-image-segmentation-dataset\\\\versions\\\\1\\\\dataset\\\\case150\\\\case150_day11',\n",
       " 'C:\\\\Users\\\\rohit\\\\.cache\\\\kagglehub\\\\datasets\\\\happyharrycn\\\\uw-madison-gi-tract-image-segmentation-dataset\\\\versions\\\\1\\\\dataset\\\\case150\\\\case150_day12',\n",
       " 'C:\\\\Users\\\\rohit\\\\.cache\\\\kagglehub\\\\datasets\\\\happyharrycn\\\\uw-madison-gi-tract-image-segmentation-dataset\\\\versions\\\\1\\\\dataset\\\\case150\\\\case150_day13',\n",
       " 'C:\\\\Users\\\\rohit\\\\.cache\\\\kagglehub\\\\datasets\\\\happyharrycn\\\\uw-madison-gi-tract-image-segmentation-dataset\\\\versions\\\\1\\\\dataset\\\\case150\\\\case150_day18',\n",
       " 'C:\\\\Users\\\\rohit\\\\.cache\\\\kagglehub\\\\datasets\\\\happyharrycn\\\\uw-madison-gi-tract-image-segmentation-dataset\\\\versions\\\\1\\\\dataset\\\\case151\\\\case151_day0',\n",
       " 'C:\\\\Users\\\\rohit\\\\.cache\\\\kagglehub\\\\datasets\\\\happyharrycn\\\\uw-madison-gi-tract-image-segmentation-dataset\\\\versions\\\\1\\\\dataset\\\\case154\\\\case154_day0',\n",
       " 'C:\\\\Users\\\\rohit\\\\.cache\\\\kagglehub\\\\datasets\\\\happyharrycn\\\\uw-madison-gi-tract-image-segmentation-dataset\\\\versions\\\\1\\\\dataset\\\\case154\\\\case154_day13',\n",
       " 'C:\\\\Users\\\\rohit\\\\.cache\\\\kagglehub\\\\datasets\\\\happyharrycn\\\\uw-madison-gi-tract-image-segmentation-dataset\\\\versions\\\\1\\\\dataset\\\\case154\\\\case154_day14',\n",
       " 'C:\\\\Users\\\\rohit\\\\.cache\\\\kagglehub\\\\datasets\\\\happyharrycn\\\\uw-madison-gi-tract-image-segmentation-dataset\\\\versions\\\\1\\\\dataset\\\\case154\\\\case154_day16',\n",
       " 'C:\\\\Users\\\\rohit\\\\.cache\\\\kagglehub\\\\datasets\\\\happyharrycn\\\\uw-madison-gi-tract-image-segmentation-dataset\\\\versions\\\\1\\\\dataset\\\\case154\\\\case154_day17',\n",
       " 'C:\\\\Users\\\\rohit\\\\.cache\\\\kagglehub\\\\datasets\\\\happyharrycn\\\\uw-madison-gi-tract-image-segmentation-dataset\\\\versions\\\\1\\\\dataset\\\\case155\\\\case155_day0',\n",
       " 'C:\\\\Users\\\\rohit\\\\.cache\\\\kagglehub\\\\datasets\\\\happyharrycn\\\\uw-madison-gi-tract-image-segmentation-dataset\\\\versions\\\\1\\\\dataset\\\\case156\\\\case156_day0',\n",
       " 'C:\\\\Users\\\\rohit\\\\.cache\\\\kagglehub\\\\datasets\\\\happyharrycn\\\\uw-madison-gi-tract-image-segmentation-dataset\\\\versions\\\\1\\\\dataset\\\\case156\\\\case156_day10',\n",
       " 'C:\\\\Users\\\\rohit\\\\.cache\\\\kagglehub\\\\datasets\\\\happyharrycn\\\\uw-madison-gi-tract-image-segmentation-dataset\\\\versions\\\\1\\\\dataset\\\\case156\\\\case156_day11',\n",
       " 'C:\\\\Users\\\\rohit\\\\.cache\\\\kagglehub\\\\datasets\\\\happyharrycn\\\\uw-madison-gi-tract-image-segmentation-dataset\\\\versions\\\\1\\\\dataset\\\\case156\\\\case156_day12',\n",
       " 'C:\\\\Users\\\\rohit\\\\.cache\\\\kagglehub\\\\datasets\\\\happyharrycn\\\\uw-madison-gi-tract-image-segmentation-dataset\\\\versions\\\\1\\\\dataset\\\\case156\\\\case156_day13',\n",
       " 'C:\\\\Users\\\\rohit\\\\.cache\\\\kagglehub\\\\datasets\\\\happyharrycn\\\\uw-madison-gi-tract-image-segmentation-dataset\\\\versions\\\\1\\\\dataset\\\\case16\\\\case16_day0',\n",
       " 'C:\\\\Users\\\\rohit\\\\.cache\\\\kagglehub\\\\datasets\\\\happyharrycn\\\\uw-madison-gi-tract-image-segmentation-dataset\\\\versions\\\\1\\\\dataset\\\\case18\\\\case18_day0',\n",
       " 'C:\\\\Users\\\\rohit\\\\.cache\\\\kagglehub\\\\datasets\\\\happyharrycn\\\\uw-madison-gi-tract-image-segmentation-dataset\\\\versions\\\\1\\\\dataset\\\\case18\\\\case18_day17',\n",
       " 'C:\\\\Users\\\\rohit\\\\.cache\\\\kagglehub\\\\datasets\\\\happyharrycn\\\\uw-madison-gi-tract-image-segmentation-dataset\\\\versions\\\\1\\\\dataset\\\\case18\\\\case18_day19',\n",
       " 'C:\\\\Users\\\\rohit\\\\.cache\\\\kagglehub\\\\datasets\\\\happyharrycn\\\\uw-madison-gi-tract-image-segmentation-dataset\\\\versions\\\\1\\\\dataset\\\\case18\\\\case18_day21',\n",
       " 'C:\\\\Users\\\\rohit\\\\.cache\\\\kagglehub\\\\datasets\\\\happyharrycn\\\\uw-madison-gi-tract-image-segmentation-dataset\\\\versions\\\\1\\\\dataset\\\\case18\\\\case18_day25',\n",
       " 'C:\\\\Users\\\\rohit\\\\.cache\\\\kagglehub\\\\datasets\\\\happyharrycn\\\\uw-madison-gi-tract-image-segmentation-dataset\\\\versions\\\\1\\\\dataset\\\\case19\\\\case19_day0',\n",
       " 'C:\\\\Users\\\\rohit\\\\.cache\\\\kagglehub\\\\datasets\\\\happyharrycn\\\\uw-madison-gi-tract-image-segmentation-dataset\\\\versions\\\\1\\\\dataset\\\\case19\\\\case19_day12',\n",
       " 'C:\\\\Users\\\\rohit\\\\.cache\\\\kagglehub\\\\datasets\\\\happyharrycn\\\\uw-madison-gi-tract-image-segmentation-dataset\\\\versions\\\\1\\\\dataset\\\\case19\\\\case19_day14',\n",
       " 'C:\\\\Users\\\\rohit\\\\.cache\\\\kagglehub\\\\datasets\\\\happyharrycn\\\\uw-madison-gi-tract-image-segmentation-dataset\\\\versions\\\\1\\\\dataset\\\\case19\\\\case19_day18',\n",
       " 'C:\\\\Users\\\\rohit\\\\.cache\\\\kagglehub\\\\datasets\\\\happyharrycn\\\\uw-madison-gi-tract-image-segmentation-dataset\\\\versions\\\\1\\\\dataset\\\\case19\\\\case19_day22',\n",
       " 'C:\\\\Users\\\\rohit\\\\.cache\\\\kagglehub\\\\datasets\\\\happyharrycn\\\\uw-madison-gi-tract-image-segmentation-dataset\\\\versions\\\\1\\\\dataset\\\\case2\\\\case2_day1',\n",
       " 'C:\\\\Users\\\\rohit\\\\.cache\\\\kagglehub\\\\datasets\\\\happyharrycn\\\\uw-madison-gi-tract-image-segmentation-dataset\\\\versions\\\\1\\\\dataset\\\\case2\\\\case2_day2',\n",
       " 'C:\\\\Users\\\\rohit\\\\.cache\\\\kagglehub\\\\datasets\\\\happyharrycn\\\\uw-madison-gi-tract-image-segmentation-dataset\\\\versions\\\\1\\\\dataset\\\\case2\\\\case2_day3',\n",
       " 'C:\\\\Users\\\\rohit\\\\.cache\\\\kagglehub\\\\datasets\\\\happyharrycn\\\\uw-madison-gi-tract-image-segmentation-dataset\\\\versions\\\\1\\\\dataset\\\\case2\\\\case2_day4',\n",
       " 'C:\\\\Users\\\\rohit\\\\.cache\\\\kagglehub\\\\datasets\\\\happyharrycn\\\\uw-madison-gi-tract-image-segmentation-dataset\\\\versions\\\\1\\\\dataset\\\\case2\\\\case2_day5',\n",
       " 'C:\\\\Users\\\\rohit\\\\.cache\\\\kagglehub\\\\datasets\\\\happyharrycn\\\\uw-madison-gi-tract-image-segmentation-dataset\\\\versions\\\\1\\\\dataset\\\\case20\\\\case20_day0',\n",
       " 'C:\\\\Users\\\\rohit\\\\.cache\\\\kagglehub\\\\datasets\\\\happyharrycn\\\\uw-madison-gi-tract-image-segmentation-dataset\\\\versions\\\\1\\\\dataset\\\\case20\\\\case20_day22',\n",
       " 'C:\\\\Users\\\\rohit\\\\.cache\\\\kagglehub\\\\datasets\\\\happyharrycn\\\\uw-madison-gi-tract-image-segmentation-dataset\\\\versions\\\\1\\\\dataset\\\\case20\\\\case20_day24',\n",
       " 'C:\\\\Users\\\\rohit\\\\.cache\\\\kagglehub\\\\datasets\\\\happyharrycn\\\\uw-madison-gi-tract-image-segmentation-dataset\\\\versions\\\\1\\\\dataset\\\\case20\\\\case20_day26',\n",
       " 'C:\\\\Users\\\\rohit\\\\.cache\\\\kagglehub\\\\datasets\\\\happyharrycn\\\\uw-madison-gi-tract-image-segmentation-dataset\\\\versions\\\\1\\\\dataset\\\\case20\\\\case20_day30',\n",
       " 'C:\\\\Users\\\\rohit\\\\.cache\\\\kagglehub\\\\datasets\\\\happyharrycn\\\\uw-madison-gi-tract-image-segmentation-dataset\\\\versions\\\\1\\\\dataset\\\\case22\\\\case22_day0',\n",
       " 'C:\\\\Users\\\\rohit\\\\.cache\\\\kagglehub\\\\datasets\\\\happyharrycn\\\\uw-madison-gi-tract-image-segmentation-dataset\\\\versions\\\\1\\\\dataset\\\\case22\\\\case22_day22',\n",
       " 'C:\\\\Users\\\\rohit\\\\.cache\\\\kagglehub\\\\datasets\\\\happyharrycn\\\\uw-madison-gi-tract-image-segmentation-dataset\\\\versions\\\\1\\\\dataset\\\\case24\\\\case24_day0',\n",
       " 'C:\\\\Users\\\\rohit\\\\.cache\\\\kagglehub\\\\datasets\\\\happyharrycn\\\\uw-madison-gi-tract-image-segmentation-dataset\\\\versions\\\\1\\\\dataset\\\\case24\\\\case24_day24',\n",
       " 'C:\\\\Users\\\\rohit\\\\.cache\\\\kagglehub\\\\datasets\\\\happyharrycn\\\\uw-madison-gi-tract-image-segmentation-dataset\\\\versions\\\\1\\\\dataset\\\\case24\\\\case24_day25',\n",
       " 'C:\\\\Users\\\\rohit\\\\.cache\\\\kagglehub\\\\datasets\\\\happyharrycn\\\\uw-madison-gi-tract-image-segmentation-dataset\\\\versions\\\\1\\\\dataset\\\\case24\\\\case24_day26',\n",
       " 'C:\\\\Users\\\\rohit\\\\.cache\\\\kagglehub\\\\datasets\\\\happyharrycn\\\\uw-madison-gi-tract-image-segmentation-dataset\\\\versions\\\\1\\\\dataset\\\\case24\\\\case24_day27',\n",
       " 'C:\\\\Users\\\\rohit\\\\.cache\\\\kagglehub\\\\datasets\\\\happyharrycn\\\\uw-madison-gi-tract-image-segmentation-dataset\\\\versions\\\\1\\\\dataset\\\\case25\\\\case25_day0',\n",
       " 'C:\\\\Users\\\\rohit\\\\.cache\\\\kagglehub\\\\datasets\\\\happyharrycn\\\\uw-madison-gi-tract-image-segmentation-dataset\\\\versions\\\\1\\\\dataset\\\\case29\\\\case29_day0',\n",
       " 'C:\\\\Users\\\\rohit\\\\.cache\\\\kagglehub\\\\datasets\\\\happyharrycn\\\\uw-madison-gi-tract-image-segmentation-dataset\\\\versions\\\\1\\\\dataset\\\\case29\\\\case29_day13',\n",
       " 'C:\\\\Users\\\\rohit\\\\.cache\\\\kagglehub\\\\datasets\\\\happyharrycn\\\\uw-madison-gi-tract-image-segmentation-dataset\\\\versions\\\\1\\\\dataset\\\\case29\\\\case29_day14',\n",
       " 'C:\\\\Users\\\\rohit\\\\.cache\\\\kagglehub\\\\datasets\\\\happyharrycn\\\\uw-madison-gi-tract-image-segmentation-dataset\\\\versions\\\\1\\\\dataset\\\\case29\\\\case29_day15',\n",
       " 'C:\\\\Users\\\\rohit\\\\.cache\\\\kagglehub\\\\datasets\\\\happyharrycn\\\\uw-madison-gi-tract-image-segmentation-dataset\\\\versions\\\\1\\\\dataset\\\\case29\\\\case29_day16',\n",
       " 'C:\\\\Users\\\\rohit\\\\.cache\\\\kagglehub\\\\datasets\\\\happyharrycn\\\\uw-madison-gi-tract-image-segmentation-dataset\\\\versions\\\\1\\\\dataset\\\\case30\\\\case30_day0',\n",
       " 'C:\\\\Users\\\\rohit\\\\.cache\\\\kagglehub\\\\datasets\\\\happyharrycn\\\\uw-madison-gi-tract-image-segmentation-dataset\\\\versions\\\\1\\\\dataset\\\\case30\\\\case30_day1',\n",
       " 'C:\\\\Users\\\\rohit\\\\.cache\\\\kagglehub\\\\datasets\\\\happyharrycn\\\\uw-madison-gi-tract-image-segmentation-dataset\\\\versions\\\\1\\\\dataset\\\\case31\\\\case31_day0',\n",
       " 'C:\\\\Users\\\\rohit\\\\.cache\\\\kagglehub\\\\datasets\\\\happyharrycn\\\\uw-madison-gi-tract-image-segmentation-dataset\\\\versions\\\\1\\\\dataset\\\\case31\\\\case31_day10',\n",
       " 'C:\\\\Users\\\\rohit\\\\.cache\\\\kagglehub\\\\datasets\\\\happyharrycn\\\\uw-madison-gi-tract-image-segmentation-dataset\\\\versions\\\\1\\\\dataset\\\\case31\\\\case31_day7',\n",
       " 'C:\\\\Users\\\\rohit\\\\.cache\\\\kagglehub\\\\datasets\\\\happyharrycn\\\\uw-madison-gi-tract-image-segmentation-dataset\\\\versions\\\\1\\\\dataset\\\\case31\\\\case31_day8',\n",
       " 'C:\\\\Users\\\\rohit\\\\.cache\\\\kagglehub\\\\datasets\\\\happyharrycn\\\\uw-madison-gi-tract-image-segmentation-dataset\\\\versions\\\\1\\\\dataset\\\\case31\\\\case31_day9',\n",
       " 'C:\\\\Users\\\\rohit\\\\.cache\\\\kagglehub\\\\datasets\\\\happyharrycn\\\\uw-madison-gi-tract-image-segmentation-dataset\\\\versions\\\\1\\\\dataset\\\\case32\\\\case32_day0',\n",
       " 'C:\\\\Users\\\\rohit\\\\.cache\\\\kagglehub\\\\datasets\\\\happyharrycn\\\\uw-madison-gi-tract-image-segmentation-dataset\\\\versions\\\\1\\\\dataset\\\\case32\\\\case32_day17',\n",
       " 'C:\\\\Users\\\\rohit\\\\.cache\\\\kagglehub\\\\datasets\\\\happyharrycn\\\\uw-madison-gi-tract-image-segmentation-dataset\\\\versions\\\\1\\\\dataset\\\\case32\\\\case32_day18',\n",
       " 'C:\\\\Users\\\\rohit\\\\.cache\\\\kagglehub\\\\datasets\\\\happyharrycn\\\\uw-madison-gi-tract-image-segmentation-dataset\\\\versions\\\\1\\\\dataset\\\\case32\\\\case32_day19',\n",
       " 'C:\\\\Users\\\\rohit\\\\.cache\\\\kagglehub\\\\datasets\\\\happyharrycn\\\\uw-madison-gi-tract-image-segmentation-dataset\\\\versions\\\\1\\\\dataset\\\\case32\\\\case32_day20',\n",
       " 'C:\\\\Users\\\\rohit\\\\.cache\\\\kagglehub\\\\datasets\\\\happyharrycn\\\\uw-madison-gi-tract-image-segmentation-dataset\\\\versions\\\\1\\\\dataset\\\\case33\\\\case33_day0',\n",
       " 'C:\\\\Users\\\\rohit\\\\.cache\\\\kagglehub\\\\datasets\\\\happyharrycn\\\\uw-madison-gi-tract-image-segmentation-dataset\\\\versions\\\\1\\\\dataset\\\\case33\\\\case33_day21',\n",
       " 'C:\\\\Users\\\\rohit\\\\.cache\\\\kagglehub\\\\datasets\\\\happyharrycn\\\\uw-madison-gi-tract-image-segmentation-dataset\\\\versions\\\\1\\\\dataset\\\\case33\\\\case33_day22',\n",
       " 'C:\\\\Users\\\\rohit\\\\.cache\\\\kagglehub\\\\datasets\\\\happyharrycn\\\\uw-madison-gi-tract-image-segmentation-dataset\\\\versions\\\\1\\\\dataset\\\\case33\\\\case33_day23',\n",
       " 'C:\\\\Users\\\\rohit\\\\.cache\\\\kagglehub\\\\datasets\\\\happyharrycn\\\\uw-madison-gi-tract-image-segmentation-dataset\\\\versions\\\\1\\\\dataset\\\\case34\\\\case34_day17',\n",
       " 'C:\\\\Users\\\\rohit\\\\.cache\\\\kagglehub\\\\datasets\\\\happyharrycn\\\\uw-madison-gi-tract-image-segmentation-dataset\\\\versions\\\\1\\\\dataset\\\\case35\\\\case35_day0',\n",
       " 'C:\\\\Users\\\\rohit\\\\.cache\\\\kagglehub\\\\datasets\\\\happyharrycn\\\\uw-madison-gi-tract-image-segmentation-dataset\\\\versions\\\\1\\\\dataset\\\\case35\\\\case35_day18',\n",
       " 'C:\\\\Users\\\\rohit\\\\.cache\\\\kagglehub\\\\datasets\\\\happyharrycn\\\\uw-madison-gi-tract-image-segmentation-dataset\\\\versions\\\\1\\\\dataset\\\\case36\\\\case36_day0',\n",
       " 'C:\\\\Users\\\\rohit\\\\.cache\\\\kagglehub\\\\datasets\\\\happyharrycn\\\\uw-madison-gi-tract-image-segmentation-dataset\\\\versions\\\\1\\\\dataset\\\\case36\\\\case36_day10',\n",
       " 'C:\\\\Users\\\\rohit\\\\.cache\\\\kagglehub\\\\datasets\\\\happyharrycn\\\\uw-madison-gi-tract-image-segmentation-dataset\\\\versions\\\\1\\\\dataset\\\\case36\\\\case36_day14',\n",
       " 'C:\\\\Users\\\\rohit\\\\.cache\\\\kagglehub\\\\datasets\\\\happyharrycn\\\\uw-madison-gi-tract-image-segmentation-dataset\\\\versions\\\\1\\\\dataset\\\\case36\\\\case36_day16',\n",
       " 'C:\\\\Users\\\\rohit\\\\.cache\\\\kagglehub\\\\datasets\\\\happyharrycn\\\\uw-madison-gi-tract-image-segmentation-dataset\\\\versions\\\\1\\\\dataset\\\\case36\\\\case36_day6',\n",
       " 'C:\\\\Users\\\\rohit\\\\.cache\\\\kagglehub\\\\datasets\\\\happyharrycn\\\\uw-madison-gi-tract-image-segmentation-dataset\\\\versions\\\\1\\\\dataset\\\\case36\\\\case36_day8',\n",
       " 'C:\\\\Users\\\\rohit\\\\.cache\\\\kagglehub\\\\datasets\\\\happyharrycn\\\\uw-madison-gi-tract-image-segmentation-dataset\\\\versions\\\\1\\\\dataset\\\\case37\\\\case37_day0',\n",
       " 'C:\\\\Users\\\\rohit\\\\.cache\\\\kagglehub\\\\datasets\\\\happyharrycn\\\\uw-madison-gi-tract-image-segmentation-dataset\\\\versions\\\\1\\\\dataset\\\\case37\\\\case37_day12',\n",
       " 'C:\\\\Users\\\\rohit\\\\.cache\\\\kagglehub\\\\datasets\\\\happyharrycn\\\\uw-madison-gi-tract-image-segmentation-dataset\\\\versions\\\\1\\\\dataset\\\\case37\\\\case37_day14',\n",
       " 'C:\\\\Users\\\\rohit\\\\.cache\\\\kagglehub\\\\datasets\\\\happyharrycn\\\\uw-madison-gi-tract-image-segmentation-dataset\\\\versions\\\\1\\\\dataset\\\\case37\\\\case37_day16',\n",
       " 'C:\\\\Users\\\\rohit\\\\.cache\\\\kagglehub\\\\datasets\\\\happyharrycn\\\\uw-madison-gi-tract-image-segmentation-dataset\\\\versions\\\\1\\\\dataset\\\\case37\\\\case37_day6',\n",
       " 'C:\\\\Users\\\\rohit\\\\.cache\\\\kagglehub\\\\datasets\\\\happyharrycn\\\\uw-madison-gi-tract-image-segmentation-dataset\\\\versions\\\\1\\\\dataset\\\\case37\\\\case37_day8',\n",
       " 'C:\\\\Users\\\\rohit\\\\.cache\\\\kagglehub\\\\datasets\\\\happyharrycn\\\\uw-madison-gi-tract-image-segmentation-dataset\\\\versions\\\\1\\\\dataset\\\\case38\\\\case38_day0',\n",
       " 'C:\\\\Users\\\\rohit\\\\.cache\\\\kagglehub\\\\datasets\\\\happyharrycn\\\\uw-madison-gi-tract-image-segmentation-dataset\\\\versions\\\\1\\\\dataset\\\\case38\\\\case38_day12',\n",
       " 'C:\\\\Users\\\\rohit\\\\.cache\\\\kagglehub\\\\datasets\\\\happyharrycn\\\\uw-madison-gi-tract-image-segmentation-dataset\\\\versions\\\\1\\\\dataset\\\\case38\\\\case38_day14',\n",
       " 'C:\\\\Users\\\\rohit\\\\.cache\\\\kagglehub\\\\datasets\\\\happyharrycn\\\\uw-madison-gi-tract-image-segmentation-dataset\\\\versions\\\\1\\\\dataset\\\\case38\\\\case38_day16',\n",
       " 'C:\\\\Users\\\\rohit\\\\.cache\\\\kagglehub\\\\datasets\\\\happyharrycn\\\\uw-madison-gi-tract-image-segmentation-dataset\\\\versions\\\\1\\\\dataset\\\\case40\\\\case40_day0',\n",
       " 'C:\\\\Users\\\\rohit\\\\.cache\\\\kagglehub\\\\datasets\\\\happyharrycn\\\\uw-madison-gi-tract-image-segmentation-dataset\\\\versions\\\\1\\\\dataset\\\\case40\\\\case40_day16',\n",
       " 'C:\\\\Users\\\\rohit\\\\.cache\\\\kagglehub\\\\datasets\\\\happyharrycn\\\\uw-madison-gi-tract-image-segmentation-dataset\\\\versions\\\\1\\\\dataset\\\\case40\\\\case40_day17',\n",
       " 'C:\\\\Users\\\\rohit\\\\.cache\\\\kagglehub\\\\datasets\\\\happyharrycn\\\\uw-madison-gi-tract-image-segmentation-dataset\\\\versions\\\\1\\\\dataset\\\\case40\\\\case40_day20',\n",
       " 'C:\\\\Users\\\\rohit\\\\.cache\\\\kagglehub\\\\datasets\\\\happyharrycn\\\\uw-madison-gi-tract-image-segmentation-dataset\\\\versions\\\\1\\\\dataset\\\\case40\\\\case40_day21',\n",
       " 'C:\\\\Users\\\\rohit\\\\.cache\\\\kagglehub\\\\datasets\\\\happyharrycn\\\\uw-madison-gi-tract-image-segmentation-dataset\\\\versions\\\\1\\\\dataset\\\\case41\\\\case41_day0',\n",
       " 'C:\\\\Users\\\\rohit\\\\.cache\\\\kagglehub\\\\datasets\\\\happyharrycn\\\\uw-madison-gi-tract-image-segmentation-dataset\\\\versions\\\\1\\\\dataset\\\\case41\\\\case41_day25',\n",
       " 'C:\\\\Users\\\\rohit\\\\.cache\\\\kagglehub\\\\datasets\\\\happyharrycn\\\\uw-madison-gi-tract-image-segmentation-dataset\\\\versions\\\\1\\\\dataset\\\\case41\\\\case41_day32',\n",
       " 'C:\\\\Users\\\\rohit\\\\.cache\\\\kagglehub\\\\datasets\\\\happyharrycn\\\\uw-madison-gi-tract-image-segmentation-dataset\\\\versions\\\\1\\\\dataset\\\\case41\\\\case41_day33',\n",
       " 'C:\\\\Users\\\\rohit\\\\.cache\\\\kagglehub\\\\datasets\\\\happyharrycn\\\\uw-madison-gi-tract-image-segmentation-dataset\\\\versions\\\\1\\\\dataset\\\\case41\\\\case41_day36',\n",
       " 'C:\\\\Users\\\\rohit\\\\.cache\\\\kagglehub\\\\datasets\\\\happyharrycn\\\\uw-madison-gi-tract-image-segmentation-dataset\\\\versions\\\\1\\\\dataset\\\\case42\\\\case42_day0',\n",
       " 'C:\\\\Users\\\\rohit\\\\.cache\\\\kagglehub\\\\datasets\\\\happyharrycn\\\\uw-madison-gi-tract-image-segmentation-dataset\\\\versions\\\\1\\\\dataset\\\\case42\\\\case42_day17',\n",
       " 'C:\\\\Users\\\\rohit\\\\.cache\\\\kagglehub\\\\datasets\\\\happyharrycn\\\\uw-madison-gi-tract-image-segmentation-dataset\\\\versions\\\\1\\\\dataset\\\\case42\\\\case42_day19',\n",
       " 'C:\\\\Users\\\\rohit\\\\.cache\\\\kagglehub\\\\datasets\\\\happyharrycn\\\\uw-madison-gi-tract-image-segmentation-dataset\\\\versions\\\\1\\\\dataset\\\\case42\\\\case42_day21',\n",
       " 'C:\\\\Users\\\\rohit\\\\.cache\\\\kagglehub\\\\datasets\\\\happyharrycn\\\\uw-madison-gi-tract-image-segmentation-dataset\\\\versions\\\\1\\\\dataset\\\\case42\\\\case42_day24',\n",
       " 'C:\\\\Users\\\\rohit\\\\.cache\\\\kagglehub\\\\datasets\\\\happyharrycn\\\\uw-madison-gi-tract-image-segmentation-dataset\\\\versions\\\\1\\\\dataset\\\\case42\\\\case42_day26',\n",
       " 'C:\\\\Users\\\\rohit\\\\.cache\\\\kagglehub\\\\datasets\\\\happyharrycn\\\\uw-madison-gi-tract-image-segmentation-dataset\\\\versions\\\\1\\\\dataset\\\\case43\\\\case43_day0',\n",
       " 'C:\\\\Users\\\\rohit\\\\.cache\\\\kagglehub\\\\datasets\\\\happyharrycn\\\\uw-madison-gi-tract-image-segmentation-dataset\\\\versions\\\\1\\\\dataset\\\\case43\\\\case43_day18',\n",
       " 'C:\\\\Users\\\\rohit\\\\.cache\\\\kagglehub\\\\datasets\\\\happyharrycn\\\\uw-madison-gi-tract-image-segmentation-dataset\\\\versions\\\\1\\\\dataset\\\\case43\\\\case43_day20',\n",
       " 'C:\\\\Users\\\\rohit\\\\.cache\\\\kagglehub\\\\datasets\\\\happyharrycn\\\\uw-madison-gi-tract-image-segmentation-dataset\\\\versions\\\\1\\\\dataset\\\\case43\\\\case43_day22',\n",
       " 'C:\\\\Users\\\\rohit\\\\.cache\\\\kagglehub\\\\datasets\\\\happyharrycn\\\\uw-madison-gi-tract-image-segmentation-dataset\\\\versions\\\\1\\\\dataset\\\\case43\\\\case43_day26',\n",
       " 'C:\\\\Users\\\\rohit\\\\.cache\\\\kagglehub\\\\datasets\\\\happyharrycn\\\\uw-madison-gi-tract-image-segmentation-dataset\\\\versions\\\\1\\\\dataset\\\\case44\\\\case44_day0',\n",
       " 'C:\\\\Users\\\\rohit\\\\.cache\\\\kagglehub\\\\datasets\\\\happyharrycn\\\\uw-madison-gi-tract-image-segmentation-dataset\\\\versions\\\\1\\\\dataset\\\\case44\\\\case44_day19',\n",
       " 'C:\\\\Users\\\\rohit\\\\.cache\\\\kagglehub\\\\datasets\\\\happyharrycn\\\\uw-madison-gi-tract-image-segmentation-dataset\\\\versions\\\\1\\\\dataset\\\\case44\\\\case44_day20',\n",
       " 'C:\\\\Users\\\\rohit\\\\.cache\\\\kagglehub\\\\datasets\\\\happyharrycn\\\\uw-madison-gi-tract-image-segmentation-dataset\\\\versions\\\\1\\\\dataset\\\\case44\\\\case44_day21',\n",
       " 'C:\\\\Users\\\\rohit\\\\.cache\\\\kagglehub\\\\datasets\\\\happyharrycn\\\\uw-madison-gi-tract-image-segmentation-dataset\\\\versions\\\\1\\\\dataset\\\\case44\\\\case44_day22',\n",
       " 'C:\\\\Users\\\\rohit\\\\.cache\\\\kagglehub\\\\datasets\\\\happyharrycn\\\\uw-madison-gi-tract-image-segmentation-dataset\\\\versions\\\\1\\\\dataset\\\\case45\\\\case45_day0',\n",
       " 'C:\\\\Users\\\\rohit\\\\.cache\\\\kagglehub\\\\datasets\\\\happyharrycn\\\\uw-madison-gi-tract-image-segmentation-dataset\\\\versions\\\\1\\\\dataset\\\\case45\\\\case45_day17',\n",
       " 'C:\\\\Users\\\\rohit\\\\.cache\\\\kagglehub\\\\datasets\\\\happyharrycn\\\\uw-madison-gi-tract-image-segmentation-dataset\\\\versions\\\\1\\\\dataset\\\\case45\\\\case45_day18',\n",
       " 'C:\\\\Users\\\\rohit\\\\.cache\\\\kagglehub\\\\datasets\\\\happyharrycn\\\\uw-madison-gi-tract-image-segmentation-dataset\\\\versions\\\\1\\\\dataset\\\\case45\\\\case45_day20',\n",
       " 'C:\\\\Users\\\\rohit\\\\.cache\\\\kagglehub\\\\datasets\\\\happyharrycn\\\\uw-madison-gi-tract-image-segmentation-dataset\\\\versions\\\\1\\\\dataset\\\\case45\\\\case45_day21',\n",
       " 'C:\\\\Users\\\\rohit\\\\.cache\\\\kagglehub\\\\datasets\\\\happyharrycn\\\\uw-madison-gi-tract-image-segmentation-dataset\\\\versions\\\\1\\\\dataset\\\\case47\\\\case47_day0',\n",
       " 'C:\\\\Users\\\\rohit\\\\.cache\\\\kagglehub\\\\datasets\\\\happyharrycn\\\\uw-madison-gi-tract-image-segmentation-dataset\\\\versions\\\\1\\\\dataset\\\\case47\\\\case47_day27',\n",
       " 'C:\\\\Users\\\\rohit\\\\.cache\\\\kagglehub\\\\datasets\\\\happyharrycn\\\\uw-madison-gi-tract-image-segmentation-dataset\\\\versions\\\\1\\\\dataset\\\\case47\\\\case47_day29',\n",
       " 'C:\\\\Users\\\\rohit\\\\.cache\\\\kagglehub\\\\datasets\\\\happyharrycn\\\\uw-madison-gi-tract-image-segmentation-dataset\\\\versions\\\\1\\\\dataset\\\\case47\\\\case47_day31',\n",
       " 'C:\\\\Users\\\\rohit\\\\.cache\\\\kagglehub\\\\datasets\\\\happyharrycn\\\\uw-madison-gi-tract-image-segmentation-dataset\\\\versions\\\\1\\\\dataset\\\\case47\\\\case47_day39',\n",
       " 'C:\\\\Users\\\\rohit\\\\.cache\\\\kagglehub\\\\datasets\\\\happyharrycn\\\\uw-madison-gi-tract-image-segmentation-dataset\\\\versions\\\\1\\\\dataset\\\\case48\\\\case48_day0',\n",
       " 'C:\\\\Users\\\\rohit\\\\.cache\\\\kagglehub\\\\datasets\\\\happyharrycn\\\\uw-madison-gi-tract-image-segmentation-dataset\\\\versions\\\\1\\\\dataset\\\\case48\\\\case48_day15',\n",
       " 'C:\\\\Users\\\\rohit\\\\.cache\\\\kagglehub\\\\datasets\\\\happyharrycn\\\\uw-madison-gi-tract-image-segmentation-dataset\\\\versions\\\\1\\\\dataset\\\\case48\\\\case48_day17',\n",
       " 'C:\\\\Users\\\\rohit\\\\.cache\\\\kagglehub\\\\datasets\\\\happyharrycn\\\\uw-madison-gi-tract-image-segmentation-dataset\\\\versions\\\\1\\\\dataset\\\\case48\\\\case48_day19',\n",
       " 'C:\\\\Users\\\\rohit\\\\.cache\\\\kagglehub\\\\datasets\\\\happyharrycn\\\\uw-madison-gi-tract-image-segmentation-dataset\\\\versions\\\\1\\\\dataset\\\\case48\\\\case48_day23',\n",
       " 'C:\\\\Users\\\\rohit\\\\.cache\\\\kagglehub\\\\datasets\\\\happyharrycn\\\\uw-madison-gi-tract-image-segmentation-dataset\\\\versions\\\\1\\\\dataset\\\\case49\\\\case49_day0',\n",
       " 'C:\\\\Users\\\\rohit\\\\.cache\\\\kagglehub\\\\datasets\\\\happyharrycn\\\\uw-madison-gi-tract-image-segmentation-dataset\\\\versions\\\\1\\\\dataset\\\\case49\\\\case49_day13',\n",
       " 'C:\\\\Users\\\\rohit\\\\.cache\\\\kagglehub\\\\datasets\\\\happyharrycn\\\\uw-madison-gi-tract-image-segmentation-dataset\\\\versions\\\\1\\\\dataset\\\\case49\\\\case49_day15',\n",
       " 'C:\\\\Users\\\\rohit\\\\.cache\\\\kagglehub\\\\datasets\\\\happyharrycn\\\\uw-madison-gi-tract-image-segmentation-dataset\\\\versions\\\\1\\\\dataset\\\\case49\\\\case49_day17',\n",
       " 'C:\\\\Users\\\\rohit\\\\.cache\\\\kagglehub\\\\datasets\\\\happyharrycn\\\\uw-madison-gi-tract-image-segmentation-dataset\\\\versions\\\\1\\\\dataset\\\\case49\\\\case49_day21',\n",
       " 'C:\\\\Users\\\\rohit\\\\.cache\\\\kagglehub\\\\datasets\\\\happyharrycn\\\\uw-madison-gi-tract-image-segmentation-dataset\\\\versions\\\\1\\\\dataset\\\\case52\\\\case52_day0',\n",
       " 'C:\\\\Users\\\\rohit\\\\.cache\\\\kagglehub\\\\datasets\\\\happyharrycn\\\\uw-madison-gi-tract-image-segmentation-dataset\\\\versions\\\\1\\\\dataset\\\\case53\\\\case53_day0',\n",
       " 'C:\\\\Users\\\\rohit\\\\.cache\\\\kagglehub\\\\datasets\\\\happyharrycn\\\\uw-madison-gi-tract-image-segmentation-dataset\\\\versions\\\\1\\\\dataset\\\\case53\\\\case53_day4',\n",
       " 'C:\\\\Users\\\\rohit\\\\.cache\\\\kagglehub\\\\datasets\\\\happyharrycn\\\\uw-madison-gi-tract-image-segmentation-dataset\\\\versions\\\\1\\\\dataset\\\\case54\\\\case54_day0',\n",
       " 'C:\\\\Users\\\\rohit\\\\.cache\\\\kagglehub\\\\datasets\\\\happyharrycn\\\\uw-madison-gi-tract-image-segmentation-dataset\\\\versions\\\\1\\\\dataset\\\\case54\\\\case54_day30',\n",
       " 'C:\\\\Users\\\\rohit\\\\.cache\\\\kagglehub\\\\datasets\\\\happyharrycn\\\\uw-madison-gi-tract-image-segmentation-dataset\\\\versions\\\\1\\\\dataset\\\\case54\\\\case54_day32',\n",
       " 'C:\\\\Users\\\\rohit\\\\.cache\\\\kagglehub\\\\datasets\\\\happyharrycn\\\\uw-madison-gi-tract-image-segmentation-dataset\\\\versions\\\\1\\\\dataset\\\\case54\\\\case54_day35',\n",
       " 'C:\\\\Users\\\\rohit\\\\.cache\\\\kagglehub\\\\datasets\\\\happyharrycn\\\\uw-madison-gi-tract-image-segmentation-dataset\\\\versions\\\\1\\\\dataset\\\\case54\\\\case54_day39',\n",
       " 'C:\\\\Users\\\\rohit\\\\.cache\\\\kagglehub\\\\datasets\\\\happyharrycn\\\\uw-madison-gi-tract-image-segmentation-dataset\\\\versions\\\\1\\\\dataset\\\\case55\\\\case55_day0',\n",
       " 'C:\\\\Users\\\\rohit\\\\.cache\\\\kagglehub\\\\datasets\\\\happyharrycn\\\\uw-madison-gi-tract-image-segmentation-dataset\\\\versions\\\\1\\\\dataset\\\\case55\\\\case55_day18',\n",
       " 'C:\\\\Users\\\\rohit\\\\.cache\\\\kagglehub\\\\datasets\\\\happyharrycn\\\\uw-madison-gi-tract-image-segmentation-dataset\\\\versions\\\\1\\\\dataset\\\\case55\\\\case55_day20',\n",
       " 'C:\\\\Users\\\\rohit\\\\.cache\\\\kagglehub\\\\datasets\\\\happyharrycn\\\\uw-madison-gi-tract-image-segmentation-dataset\\\\versions\\\\1\\\\dataset\\\\case55\\\\case55_day22',\n",
       " 'C:\\\\Users\\\\rohit\\\\.cache\\\\kagglehub\\\\datasets\\\\happyharrycn\\\\uw-madison-gi-tract-image-segmentation-dataset\\\\versions\\\\1\\\\dataset\\\\case55\\\\case55_day25',\n",
       " 'C:\\\\Users\\\\rohit\\\\.cache\\\\kagglehub\\\\datasets\\\\happyharrycn\\\\uw-madison-gi-tract-image-segmentation-dataset\\\\versions\\\\1\\\\dataset\\\\case56\\\\case56_day0',\n",
       " 'C:\\\\Users\\\\rohit\\\\.cache\\\\kagglehub\\\\datasets\\\\happyharrycn\\\\uw-madison-gi-tract-image-segmentation-dataset\\\\versions\\\\1\\\\dataset\\\\case56\\\\case56_day1',\n",
       " 'C:\\\\Users\\\\rohit\\\\.cache\\\\kagglehub\\\\datasets\\\\happyharrycn\\\\uw-madison-gi-tract-image-segmentation-dataset\\\\versions\\\\1\\\\dataset\\\\case57\\\\case57_day0',\n",
       " 'C:\\\\Users\\\\rohit\\\\.cache\\\\kagglehub\\\\datasets\\\\happyharrycn\\\\uw-madison-gi-tract-image-segmentation-dataset\\\\versions\\\\1\\\\dataset\\\\case57\\\\case57_day14',\n",
       " 'C:\\\\Users\\\\rohit\\\\.cache\\\\kagglehub\\\\datasets\\\\happyharrycn\\\\uw-madison-gi-tract-image-segmentation-dataset\\\\versions\\\\1\\\\dataset\\\\case57\\\\case57_day15',\n",
       " 'C:\\\\Users\\\\rohit\\\\.cache\\\\kagglehub\\\\datasets\\\\happyharrycn\\\\uw-madison-gi-tract-image-segmentation-dataset\\\\versions\\\\1\\\\dataset\\\\case57\\\\case57_day16',\n",
       " 'C:\\\\Users\\\\rohit\\\\.cache\\\\kagglehub\\\\datasets\\\\happyharrycn\\\\uw-madison-gi-tract-image-segmentation-dataset\\\\versions\\\\1\\\\dataset\\\\case57\\\\case57_day18',\n",
       " 'C:\\\\Users\\\\rohit\\\\.cache\\\\kagglehub\\\\datasets\\\\happyharrycn\\\\uw-madison-gi-tract-image-segmentation-dataset\\\\versions\\\\1\\\\dataset\\\\case58\\\\case58_day0',\n",
       " 'C:\\\\Users\\\\rohit\\\\.cache\\\\kagglehub\\\\datasets\\\\happyharrycn\\\\uw-madison-gi-tract-image-segmentation-dataset\\\\versions\\\\1\\\\dataset\\\\case6\\\\case6_day0',\n",
       " 'C:\\\\Users\\\\rohit\\\\.cache\\\\kagglehub\\\\datasets\\\\happyharrycn\\\\uw-madison-gi-tract-image-segmentation-dataset\\\\versions\\\\1\\\\dataset\\\\case6\\\\case6_day20',\n",
       " 'C:\\\\Users\\\\rohit\\\\.cache\\\\kagglehub\\\\datasets\\\\happyharrycn\\\\uw-madison-gi-tract-image-segmentation-dataset\\\\versions\\\\1\\\\dataset\\\\case6\\\\case6_day24',\n",
       " 'C:\\\\Users\\\\rohit\\\\.cache\\\\kagglehub\\\\datasets\\\\happyharrycn\\\\uw-madison-gi-tract-image-segmentation-dataset\\\\versions\\\\1\\\\dataset\\\\case6\\\\case6_day26',\n",
       " 'C:\\\\Users\\\\rohit\\\\.cache\\\\kagglehub\\\\datasets\\\\happyharrycn\\\\uw-madison-gi-tract-image-segmentation-dataset\\\\versions\\\\1\\\\dataset\\\\case6\\\\case6_day28',\n",
       " 'C:\\\\Users\\\\rohit\\\\.cache\\\\kagglehub\\\\datasets\\\\happyharrycn\\\\uw-madison-gi-tract-image-segmentation-dataset\\\\versions\\\\1\\\\dataset\\\\case61\\\\case61_day0',\n",
       " 'C:\\\\Users\\\\rohit\\\\.cache\\\\kagglehub\\\\datasets\\\\happyharrycn\\\\uw-madison-gi-tract-image-segmentation-dataset\\\\versions\\\\1\\\\dataset\\\\case61\\\\case61_day11',\n",
       " 'C:\\\\Users\\\\rohit\\\\.cache\\\\kagglehub\\\\datasets\\\\happyharrycn\\\\uw-madison-gi-tract-image-segmentation-dataset\\\\versions\\\\1\\\\dataset\\\\case61\\\\case61_day14',\n",
       " 'C:\\\\Users\\\\rohit\\\\.cache\\\\kagglehub\\\\datasets\\\\happyharrycn\\\\uw-madison-gi-tract-image-segmentation-dataset\\\\versions\\\\1\\\\dataset\\\\case61\\\\case61_day16',\n",
       " 'C:\\\\Users\\\\rohit\\\\.cache\\\\kagglehub\\\\datasets\\\\happyharrycn\\\\uw-madison-gi-tract-image-segmentation-dataset\\\\versions\\\\1\\\\dataset\\\\case61\\\\case61_day9',\n",
       " 'C:\\\\Users\\\\rohit\\\\.cache\\\\kagglehub\\\\datasets\\\\happyharrycn\\\\uw-madison-gi-tract-image-segmentation-dataset\\\\versions\\\\1\\\\dataset\\\\case63\\\\case63_day0',\n",
       " 'C:\\\\Users\\\\rohit\\\\.cache\\\\kagglehub\\\\datasets\\\\happyharrycn\\\\uw-madison-gi-tract-image-segmentation-dataset\\\\versions\\\\1\\\\dataset\\\\case63\\\\case63_day18',\n",
       " 'C:\\\\Users\\\\rohit\\\\.cache\\\\kagglehub\\\\datasets\\\\happyharrycn\\\\uw-madison-gi-tract-image-segmentation-dataset\\\\versions\\\\1\\\\dataset\\\\case63\\\\case63_day20',\n",
       " 'C:\\\\Users\\\\rohit\\\\.cache\\\\kagglehub\\\\datasets\\\\happyharrycn\\\\uw-madison-gi-tract-image-segmentation-dataset\\\\versions\\\\1\\\\dataset\\\\case63\\\\case63_day22',\n",
       " 'C:\\\\Users\\\\rohit\\\\.cache\\\\kagglehub\\\\datasets\\\\happyharrycn\\\\uw-madison-gi-tract-image-segmentation-dataset\\\\versions\\\\1\\\\dataset\\\\case63\\\\case63_day26',\n",
       " 'C:\\\\Users\\\\rohit\\\\.cache\\\\kagglehub\\\\datasets\\\\happyharrycn\\\\uw-madison-gi-tract-image-segmentation-dataset\\\\versions\\\\1\\\\dataset\\\\case65\\\\case65_day0',\n",
       " 'C:\\\\Users\\\\rohit\\\\.cache\\\\kagglehub\\\\datasets\\\\happyharrycn\\\\uw-madison-gi-tract-image-segmentation-dataset\\\\versions\\\\1\\\\dataset\\\\case65\\\\case65_day25',\n",
       " 'C:\\\\Users\\\\rohit\\\\.cache\\\\kagglehub\\\\datasets\\\\happyharrycn\\\\uw-madison-gi-tract-image-segmentation-dataset\\\\versions\\\\1\\\\dataset\\\\case65\\\\case65_day28',\n",
       " 'C:\\\\Users\\\\rohit\\\\.cache\\\\kagglehub\\\\datasets\\\\happyharrycn\\\\uw-madison-gi-tract-image-segmentation-dataset\\\\versions\\\\1\\\\dataset\\\\case65\\\\case65_day30',\n",
       " 'C:\\\\Users\\\\rohit\\\\.cache\\\\kagglehub\\\\datasets\\\\happyharrycn\\\\uw-madison-gi-tract-image-segmentation-dataset\\\\versions\\\\1\\\\dataset\\\\case65\\\\case65_day32',\n",
       " 'C:\\\\Users\\\\rohit\\\\.cache\\\\kagglehub\\\\datasets\\\\happyharrycn\\\\uw-madison-gi-tract-image-segmentation-dataset\\\\versions\\\\1\\\\dataset\\\\case66\\\\case66_day0',\n",
       " 'C:\\\\Users\\\\rohit\\\\.cache\\\\kagglehub\\\\datasets\\\\happyharrycn\\\\uw-madison-gi-tract-image-segmentation-dataset\\\\versions\\\\1\\\\dataset\\\\case66\\\\case66_day34',\n",
       " 'C:\\\\Users\\\\rohit\\\\.cache\\\\kagglehub\\\\datasets\\\\happyharrycn\\\\uw-madison-gi-tract-image-segmentation-dataset\\\\versions\\\\1\\\\dataset\\\\case66\\\\case66_day36',\n",
       " 'C:\\\\Users\\\\rohit\\\\.cache\\\\kagglehub\\\\datasets\\\\happyharrycn\\\\uw-madison-gi-tract-image-segmentation-dataset\\\\versions\\\\1\\\\dataset\\\\case66\\\\case66_day40',\n",
       " 'C:\\\\Users\\\\rohit\\\\.cache\\\\kagglehub\\\\datasets\\\\happyharrycn\\\\uw-madison-gi-tract-image-segmentation-dataset\\\\versions\\\\1\\\\dataset\\\\case66\\\\case66_day41',\n",
       " 'C:\\\\Users\\\\rohit\\\\.cache\\\\kagglehub\\\\datasets\\\\happyharrycn\\\\uw-madison-gi-tract-image-segmentation-dataset\\\\versions\\\\1\\\\dataset\\\\case67\\\\case67_day0',\n",
       " 'C:\\\\Users\\\\rohit\\\\.cache\\\\kagglehub\\\\datasets\\\\happyharrycn\\\\uw-madison-gi-tract-image-segmentation-dataset\\\\versions\\\\1\\\\dataset\\\\case67\\\\case67_day12',\n",
       " 'C:\\\\Users\\\\rohit\\\\.cache\\\\kagglehub\\\\datasets\\\\happyharrycn\\\\uw-madison-gi-tract-image-segmentation-dataset\\\\versions\\\\1\\\\dataset\\\\case67\\\\case67_day16',\n",
       " 'C:\\\\Users\\\\rohit\\\\.cache\\\\kagglehub\\\\datasets\\\\happyharrycn\\\\uw-madison-gi-tract-image-segmentation-dataset\\\\versions\\\\1\\\\dataset\\\\case67\\\\case67_day18',\n",
       " 'C:\\\\Users\\\\rohit\\\\.cache\\\\kagglehub\\\\datasets\\\\happyharrycn\\\\uw-madison-gi-tract-image-segmentation-dataset\\\\versions\\\\1\\\\dataset\\\\case67\\\\case67_day22',\n",
       " 'C:\\\\Users\\\\rohit\\\\.cache\\\\kagglehub\\\\datasets\\\\happyharrycn\\\\uw-madison-gi-tract-image-segmentation-dataset\\\\versions\\\\1\\\\dataset\\\\case7\\\\case7_day0',\n",
       " 'C:\\\\Users\\\\rohit\\\\.cache\\\\kagglehub\\\\datasets\\\\happyharrycn\\\\uw-madison-gi-tract-image-segmentation-dataset\\\\versions\\\\1\\\\dataset\\\\case7\\\\case7_day13',\n",
       " 'C:\\\\Users\\\\rohit\\\\.cache\\\\kagglehub\\\\datasets\\\\happyharrycn\\\\uw-madison-gi-tract-image-segmentation-dataset\\\\versions\\\\1\\\\dataset\\\\case7\\\\case7_day19',\n",
       " 'C:\\\\Users\\\\rohit\\\\.cache\\\\kagglehub\\\\datasets\\\\happyharrycn\\\\uw-madison-gi-tract-image-segmentation-dataset\\\\versions\\\\1\\\\dataset\\\\case7\\\\case7_day21',\n",
       " 'C:\\\\Users\\\\rohit\\\\.cache\\\\kagglehub\\\\datasets\\\\happyharrycn\\\\uw-madison-gi-tract-image-segmentation-dataset\\\\versions\\\\1\\\\dataset\\\\case7\\\\case7_day23',\n",
       " 'C:\\\\Users\\\\rohit\\\\.cache\\\\kagglehub\\\\datasets\\\\happyharrycn\\\\uw-madison-gi-tract-image-segmentation-dataset\\\\versions\\\\1\\\\dataset\\\\case74\\\\case74_day0',\n",
       " 'C:\\\\Users\\\\rohit\\\\.cache\\\\kagglehub\\\\datasets\\\\happyharrycn\\\\uw-madison-gi-tract-image-segmentation-dataset\\\\versions\\\\1\\\\dataset\\\\case74\\\\case74_day13',\n",
       " 'C:\\\\Users\\\\rohit\\\\.cache\\\\kagglehub\\\\datasets\\\\happyharrycn\\\\uw-madison-gi-tract-image-segmentation-dataset\\\\versions\\\\1\\\\dataset\\\\case74\\\\case74_day15',\n",
       " 'C:\\\\Users\\\\rohit\\\\.cache\\\\kagglehub\\\\datasets\\\\happyharrycn\\\\uw-madison-gi-tract-image-segmentation-dataset\\\\versions\\\\1\\\\dataset\\\\case74\\\\case74_day18',\n",
       " 'C:\\\\Users\\\\rohit\\\\.cache\\\\kagglehub\\\\datasets\\\\happyharrycn\\\\uw-madison-gi-tract-image-segmentation-dataset\\\\versions\\\\1\\\\dataset\\\\case74\\\\case74_day19',\n",
       " 'C:\\\\Users\\\\rohit\\\\.cache\\\\kagglehub\\\\datasets\\\\happyharrycn\\\\uw-madison-gi-tract-image-segmentation-dataset\\\\versions\\\\1\\\\dataset\\\\case75\\\\case75_day16',\n",
       " 'C:\\\\Users\\\\rohit\\\\.cache\\\\kagglehub\\\\datasets\\\\happyharrycn\\\\uw-madison-gi-tract-image-segmentation-dataset\\\\versions\\\\1\\\\dataset\\\\case75\\\\case75_day17',\n",
       " 'C:\\\\Users\\\\rohit\\\\.cache\\\\kagglehub\\\\datasets\\\\happyharrycn\\\\uw-madison-gi-tract-image-segmentation-dataset\\\\versions\\\\1\\\\dataset\\\\case75\\\\case75_day20',\n",
       " 'C:\\\\Users\\\\rohit\\\\.cache\\\\kagglehub\\\\datasets\\\\happyharrycn\\\\uw-madison-gi-tract-image-segmentation-dataset\\\\versions\\\\1\\\\dataset\\\\case75\\\\case75_day22',\n",
       " 'C:\\\\Users\\\\rohit\\\\.cache\\\\kagglehub\\\\datasets\\\\happyharrycn\\\\uw-madison-gi-tract-image-segmentation-dataset\\\\versions\\\\1\\\\dataset\\\\case75\\\\case75_day24',\n",
       " 'C:\\\\Users\\\\rohit\\\\.cache\\\\kagglehub\\\\datasets\\\\happyharrycn\\\\uw-madison-gi-tract-image-segmentation-dataset\\\\versions\\\\1\\\\dataset\\\\case77\\\\case77_day0',\n",
       " 'C:\\\\Users\\\\rohit\\\\.cache\\\\kagglehub\\\\datasets\\\\happyharrycn\\\\uw-madison-gi-tract-image-segmentation-dataset\\\\versions\\\\1\\\\dataset\\\\case77\\\\case77_day18',\n",
       " 'C:\\\\Users\\\\rohit\\\\.cache\\\\kagglehub\\\\datasets\\\\happyharrycn\\\\uw-madison-gi-tract-image-segmentation-dataset\\\\versions\\\\1\\\\dataset\\\\case77\\\\case77_day20',\n",
       " 'C:\\\\Users\\\\rohit\\\\.cache\\\\kagglehub\\\\datasets\\\\happyharrycn\\\\uw-madison-gi-tract-image-segmentation-dataset\\\\versions\\\\1\\\\dataset\\\\case77\\\\case77_day21',\n",
       " 'C:\\\\Users\\\\rohit\\\\.cache\\\\kagglehub\\\\datasets\\\\happyharrycn\\\\uw-madison-gi-tract-image-segmentation-dataset\\\\versions\\\\1\\\\dataset\\\\case77\\\\case77_day24',\n",
       " 'C:\\\\Users\\\\rohit\\\\.cache\\\\kagglehub\\\\datasets\\\\happyharrycn\\\\uw-madison-gi-tract-image-segmentation-dataset\\\\versions\\\\1\\\\dataset\\\\case78\\\\case78_day0',\n",
       " 'C:\\\\Users\\\\rohit\\\\.cache\\\\kagglehub\\\\datasets\\\\happyharrycn\\\\uw-madison-gi-tract-image-segmentation-dataset\\\\versions\\\\1\\\\dataset\\\\case78\\\\case78_day18',\n",
       " 'C:\\\\Users\\\\rohit\\\\.cache\\\\kagglehub\\\\datasets\\\\happyharrycn\\\\uw-madison-gi-tract-image-segmentation-dataset\\\\versions\\\\1\\\\dataset\\\\case78\\\\case78_day22',\n",
       " 'C:\\\\Users\\\\rohit\\\\.cache\\\\kagglehub\\\\datasets\\\\happyharrycn\\\\uw-madison-gi-tract-image-segmentation-dataset\\\\versions\\\\1\\\\dataset\\\\case78\\\\case78_day26',\n",
       " 'C:\\\\Users\\\\rohit\\\\.cache\\\\kagglehub\\\\datasets\\\\happyharrycn\\\\uw-madison-gi-tract-image-segmentation-dataset\\\\versions\\\\1\\\\dataset\\\\case78\\\\case78_day30',\n",
       " 'C:\\\\Users\\\\rohit\\\\.cache\\\\kagglehub\\\\datasets\\\\happyharrycn\\\\uw-madison-gi-tract-image-segmentation-dataset\\\\versions\\\\1\\\\dataset\\\\case80\\\\case80_day0',\n",
       " 'C:\\\\Users\\\\rohit\\\\.cache\\\\kagglehub\\\\datasets\\\\happyharrycn\\\\uw-madison-gi-tract-image-segmentation-dataset\\\\versions\\\\1\\\\dataset\\\\case80\\\\case80_day10',\n",
       " 'C:\\\\Users\\\\rohit\\\\.cache\\\\kagglehub\\\\datasets\\\\happyharrycn\\\\uw-madison-gi-tract-image-segmentation-dataset\\\\versions\\\\1\\\\dataset\\\\case80\\\\case80_day14',\n",
       " 'C:\\\\Users\\\\rohit\\\\.cache\\\\kagglehub\\\\datasets\\\\happyharrycn\\\\uw-madison-gi-tract-image-segmentation-dataset\\\\versions\\\\1\\\\dataset\\\\case80\\\\case80_day17',\n",
       " 'C:\\\\Users\\\\rohit\\\\.cache\\\\kagglehub\\\\datasets\\\\happyharrycn\\\\uw-madison-gi-tract-image-segmentation-dataset\\\\versions\\\\1\\\\dataset\\\\case80\\\\case80_day19',\n",
       " 'C:\\\\Users\\\\rohit\\\\.cache\\\\kagglehub\\\\datasets\\\\happyharrycn\\\\uw-madison-gi-tract-image-segmentation-dataset\\\\versions\\\\1\\\\dataset\\\\case81\\\\case81_day0',\n",
       " 'C:\\\\Users\\\\rohit\\\\.cache\\\\kagglehub\\\\datasets\\\\happyharrycn\\\\uw-madison-gi-tract-image-segmentation-dataset\\\\versions\\\\1\\\\dataset\\\\case81\\\\case81_day28',\n",
       " 'C:\\\\Users\\\\rohit\\\\.cache\\\\kagglehub\\\\datasets\\\\happyharrycn\\\\uw-madison-gi-tract-image-segmentation-dataset\\\\versions\\\\1\\\\dataset\\\\case81\\\\case81_day30',\n",
       " 'C:\\\\Users\\\\rohit\\\\.cache\\\\kagglehub\\\\datasets\\\\happyharrycn\\\\uw-madison-gi-tract-image-segmentation-dataset\\\\versions\\\\1\\\\dataset\\\\case81\\\\case81_day33',\n",
       " 'C:\\\\Users\\\\rohit\\\\.cache\\\\kagglehub\\\\datasets\\\\happyharrycn\\\\uw-madison-gi-tract-image-segmentation-dataset\\\\versions\\\\1\\\\dataset\\\\case81\\\\case81_day39',\n",
       " 'C:\\\\Users\\\\rohit\\\\.cache\\\\kagglehub\\\\datasets\\\\happyharrycn\\\\uw-madison-gi-tract-image-segmentation-dataset\\\\versions\\\\1\\\\dataset\\\\case83\\\\case83_day0',\n",
       " 'C:\\\\Users\\\\rohit\\\\.cache\\\\kagglehub\\\\datasets\\\\happyharrycn\\\\uw-madison-gi-tract-image-segmentation-dataset\\\\versions\\\\1\\\\dataset\\\\case83\\\\case83_day11',\n",
       " 'C:\\\\Users\\\\rohit\\\\.cache\\\\kagglehub\\\\datasets\\\\happyharrycn\\\\uw-madison-gi-tract-image-segmentation-dataset\\\\versions\\\\1\\\\dataset\\\\case83\\\\case83_day15',\n",
       " 'C:\\\\Users\\\\rohit\\\\.cache\\\\kagglehub\\\\datasets\\\\happyharrycn\\\\uw-madison-gi-tract-image-segmentation-dataset\\\\versions\\\\1\\\\dataset\\\\case83\\\\case83_day19',\n",
       " 'C:\\\\Users\\\\rohit\\\\.cache\\\\kagglehub\\\\datasets\\\\happyharrycn\\\\uw-madison-gi-tract-image-segmentation-dataset\\\\versions\\\\1\\\\dataset\\\\case83\\\\case83_day21',\n",
       " 'C:\\\\Users\\\\rohit\\\\.cache\\\\kagglehub\\\\datasets\\\\happyharrycn\\\\uw-madison-gi-tract-image-segmentation-dataset\\\\versions\\\\1\\\\dataset\\\\case84\\\\case84_day0',\n",
       " 'C:\\\\Users\\\\rohit\\\\.cache\\\\kagglehub\\\\datasets\\\\happyharrycn\\\\uw-madison-gi-tract-image-segmentation-dataset\\\\versions\\\\1\\\\dataset\\\\case84\\\\case84_day21',\n",
       " 'C:\\\\Users\\\\rohit\\\\.cache\\\\kagglehub\\\\datasets\\\\happyharrycn\\\\uw-madison-gi-tract-image-segmentation-dataset\\\\versions\\\\1\\\\dataset\\\\case84\\\\case84_day23',\n",
       " 'C:\\\\Users\\\\rohit\\\\.cache\\\\kagglehub\\\\datasets\\\\happyharrycn\\\\uw-madison-gi-tract-image-segmentation-dataset\\\\versions\\\\1\\\\dataset\\\\case84\\\\case84_day27',\n",
       " 'C:\\\\Users\\\\rohit\\\\.cache\\\\kagglehub\\\\datasets\\\\happyharrycn\\\\uw-madison-gi-tract-image-segmentation-dataset\\\\versions\\\\1\\\\dataset\\\\case84\\\\case84_day29',\n",
       " 'C:\\\\Users\\\\rohit\\\\.cache\\\\kagglehub\\\\datasets\\\\happyharrycn\\\\uw-madison-gi-tract-image-segmentation-dataset\\\\versions\\\\1\\\\dataset\\\\case85\\\\case85_day0',\n",
       " 'C:\\\\Users\\\\rohit\\\\.cache\\\\kagglehub\\\\datasets\\\\happyharrycn\\\\uw-madison-gi-tract-image-segmentation-dataset\\\\versions\\\\1\\\\dataset\\\\case85\\\\case85_day21',\n",
       " 'C:\\\\Users\\\\rohit\\\\.cache\\\\kagglehub\\\\datasets\\\\happyharrycn\\\\uw-madison-gi-tract-image-segmentation-dataset\\\\versions\\\\1\\\\dataset\\\\case85\\\\case85_day23',\n",
       " 'C:\\\\Users\\\\rohit\\\\.cache\\\\kagglehub\\\\datasets\\\\happyharrycn\\\\uw-madison-gi-tract-image-segmentation-dataset\\\\versions\\\\1\\\\dataset\\\\case85\\\\case85_day27',\n",
       " 'C:\\\\Users\\\\rohit\\\\.cache\\\\kagglehub\\\\datasets\\\\happyharrycn\\\\uw-madison-gi-tract-image-segmentation-dataset\\\\versions\\\\1\\\\dataset\\\\case85\\\\case85_day29',\n",
       " 'C:\\\\Users\\\\rohit\\\\.cache\\\\kagglehub\\\\datasets\\\\happyharrycn\\\\uw-madison-gi-tract-image-segmentation-dataset\\\\versions\\\\1\\\\dataset\\\\case86\\\\case86_day0',\n",
       " 'C:\\\\Users\\\\rohit\\\\.cache\\\\kagglehub\\\\datasets\\\\happyharrycn\\\\uw-madison-gi-tract-image-segmentation-dataset\\\\versions\\\\1\\\\dataset\\\\case86\\\\case86_day10',\n",
       " 'C:\\\\Users\\\\rohit\\\\.cache\\\\kagglehub\\\\datasets\\\\happyharrycn\\\\uw-madison-gi-tract-image-segmentation-dataset\\\\versions\\\\1\\\\dataset\\\\case86\\\\case86_day13',\n",
       " 'C:\\\\Users\\\\rohit\\\\.cache\\\\kagglehub\\\\datasets\\\\happyharrycn\\\\uw-madison-gi-tract-image-segmentation-dataset\\\\versions\\\\1\\\\dataset\\\\case86\\\\case86_day16',\n",
       " 'C:\\\\Users\\\\rohit\\\\.cache\\\\kagglehub\\\\datasets\\\\happyharrycn\\\\uw-madison-gi-tract-image-segmentation-dataset\\\\versions\\\\1\\\\dataset\\\\case86\\\\case86_day6',\n",
       " 'C:\\\\Users\\\\rohit\\\\.cache\\\\kagglehub\\\\datasets\\\\happyharrycn\\\\uw-madison-gi-tract-image-segmentation-dataset\\\\versions\\\\1\\\\dataset\\\\case88\\\\case88_day0',\n",
       " 'C:\\\\Users\\\\rohit\\\\.cache\\\\kagglehub\\\\datasets\\\\happyharrycn\\\\uw-madison-gi-tract-image-segmentation-dataset\\\\versions\\\\1\\\\dataset\\\\case88\\\\case88_day36',\n",
       " 'C:\\\\Users\\\\rohit\\\\.cache\\\\kagglehub\\\\datasets\\\\happyharrycn\\\\uw-madison-gi-tract-image-segmentation-dataset\\\\versions\\\\1\\\\dataset\\\\case88\\\\case88_day38',\n",
       " 'C:\\\\Users\\\\rohit\\\\.cache\\\\kagglehub\\\\datasets\\\\happyharrycn\\\\uw-madison-gi-tract-image-segmentation-dataset\\\\versions\\\\1\\\\dataset\\\\case88\\\\case88_day42',\n",
       " 'C:\\\\Users\\\\rohit\\\\.cache\\\\kagglehub\\\\datasets\\\\happyharrycn\\\\uw-madison-gi-tract-image-segmentation-dataset\\\\versions\\\\1\\\\dataset\\\\case88\\\\case88_day44',\n",
       " 'C:\\\\Users\\\\rohit\\\\.cache\\\\kagglehub\\\\datasets\\\\happyharrycn\\\\uw-madison-gi-tract-image-segmentation-dataset\\\\versions\\\\1\\\\dataset\\\\case89\\\\case89_day0',\n",
       " 'C:\\\\Users\\\\rohit\\\\.cache\\\\kagglehub\\\\datasets\\\\happyharrycn\\\\uw-madison-gi-tract-image-segmentation-dataset\\\\versions\\\\1\\\\dataset\\\\case89\\\\case89_day17',\n",
       " 'C:\\\\Users\\\\rohit\\\\.cache\\\\kagglehub\\\\datasets\\\\happyharrycn\\\\uw-madison-gi-tract-image-segmentation-dataset\\\\versions\\\\1\\\\dataset\\\\case89\\\\case89_day19',\n",
       " 'C:\\\\Users\\\\rohit\\\\.cache\\\\kagglehub\\\\datasets\\\\happyharrycn\\\\uw-madison-gi-tract-image-segmentation-dataset\\\\versions\\\\1\\\\dataset\\\\case89\\\\case89_day20',\n",
       " 'C:\\\\Users\\\\rohit\\\\.cache\\\\kagglehub\\\\datasets\\\\happyharrycn\\\\uw-madison-gi-tract-image-segmentation-dataset\\\\versions\\\\1\\\\dataset\\\\case9\\\\case9_day0',\n",
       " 'C:\\\\Users\\\\rohit\\\\.cache\\\\kagglehub\\\\datasets\\\\happyharrycn\\\\uw-madison-gi-tract-image-segmentation-dataset\\\\versions\\\\1\\\\dataset\\\\case9\\\\case9_day20',\n",
       " 'C:\\\\Users\\\\rohit\\\\.cache\\\\kagglehub\\\\datasets\\\\happyharrycn\\\\uw-madison-gi-tract-image-segmentation-dataset\\\\versions\\\\1\\\\dataset\\\\case9\\\\case9_day22',\n",
       " 'C:\\\\Users\\\\rohit\\\\.cache\\\\kagglehub\\\\datasets\\\\happyharrycn\\\\uw-madison-gi-tract-image-segmentation-dataset\\\\versions\\\\1\\\\dataset\\\\case9\\\\case9_day25',\n",
       " 'C:\\\\Users\\\\rohit\\\\.cache\\\\kagglehub\\\\datasets\\\\happyharrycn\\\\uw-madison-gi-tract-image-segmentation-dataset\\\\versions\\\\1\\\\dataset\\\\case9\\\\case9_day27',\n",
       " 'C:\\\\Users\\\\rohit\\\\.cache\\\\kagglehub\\\\datasets\\\\happyharrycn\\\\uw-madison-gi-tract-image-segmentation-dataset\\\\versions\\\\1\\\\dataset\\\\case90\\\\case90_day0',\n",
       " 'C:\\\\Users\\\\rohit\\\\.cache\\\\kagglehub\\\\datasets\\\\happyharrycn\\\\uw-madison-gi-tract-image-segmentation-dataset\\\\versions\\\\1\\\\dataset\\\\case90\\\\case90_day22',\n",
       " 'C:\\\\Users\\\\rohit\\\\.cache\\\\kagglehub\\\\datasets\\\\happyharrycn\\\\uw-madison-gi-tract-image-segmentation-dataset\\\\versions\\\\1\\\\dataset\\\\case90\\\\case90_day29',\n",
       " 'C:\\\\Users\\\\rohit\\\\.cache\\\\kagglehub\\\\datasets\\\\happyharrycn\\\\uw-madison-gi-tract-image-segmentation-dataset\\\\versions\\\\1\\\\dataset\\\\case90\\\\case90_day33',\n",
       " 'C:\\\\Users\\\\rohit\\\\.cache\\\\kagglehub\\\\datasets\\\\happyharrycn\\\\uw-madison-gi-tract-image-segmentation-dataset\\\\versions\\\\1\\\\dataset\\\\case90\\\\case90_day35',\n",
       " 'C:\\\\Users\\\\rohit\\\\.cache\\\\kagglehub\\\\datasets\\\\happyharrycn\\\\uw-madison-gi-tract-image-segmentation-dataset\\\\versions\\\\1\\\\dataset\\\\case91\\\\case91_day0',\n",
       " 'C:\\\\Users\\\\rohit\\\\.cache\\\\kagglehub\\\\datasets\\\\happyharrycn\\\\uw-madison-gi-tract-image-segmentation-dataset\\\\versions\\\\1\\\\dataset\\\\case92\\\\case92_day0',\n",
       " 'C:\\\\Users\\\\rohit\\\\.cache\\\\kagglehub\\\\datasets\\\\happyharrycn\\\\uw-madison-gi-tract-image-segmentation-dataset\\\\versions\\\\1\\\\dataset\\\\case95\\\\case95_day0',\n",
       " 'C:\\\\Users\\\\rohit\\\\.cache\\\\kagglehub\\\\datasets\\\\happyharrycn\\\\uw-madison-gi-tract-image-segmentation-dataset\\\\versions\\\\1\\\\dataset\\\\case95\\\\case95_day20',\n",
       " 'C:\\\\Users\\\\rohit\\\\.cache\\\\kagglehub\\\\datasets\\\\happyharrycn\\\\uw-madison-gi-tract-image-segmentation-dataset\\\\versions\\\\1\\\\dataset\\\\case95\\\\case95_day22',\n",
       " 'C:\\\\Users\\\\rohit\\\\.cache\\\\kagglehub\\\\datasets\\\\happyharrycn\\\\uw-madison-gi-tract-image-segmentation-dataset\\\\versions\\\\1\\\\dataset\\\\case95\\\\case95_day23',\n",
       " 'C:\\\\Users\\\\rohit\\\\.cache\\\\kagglehub\\\\datasets\\\\happyharrycn\\\\uw-madison-gi-tract-image-segmentation-dataset\\\\versions\\\\1\\\\dataset\\\\case95\\\\case95_day27']"
      ]
     },
     "execution_count": 14,
     "metadata": {},
     "output_type": "execute_result"
    }
   ],
   "source": [
    "samples"
   ]
  },
  {
   "cell_type": "code",
   "execution_count": 21,
   "id": "ada1a246",
   "metadata": {},
   "outputs": [],
   "source": [
    "for sample in samples:\n",
    "    for root, dir, files in os.walk(sample):\n",
    "        if 'scans' in root:\n",
    "            if len(files) == 80:\n",
    "                print(root)\n",
    "                samples.remove(sample)"
   ]
  },
  {
   "cell_type": "code",
   "execution_count": 22,
   "id": "2b7a9aaf",
   "metadata": {},
   "outputs": [
    {
     "data": {
      "text/plain": [
       "448"
      ]
     },
     "execution_count": 22,
     "metadata": {},
     "output_type": "execute_result"
    }
   ],
   "source": [
    "len(samples)"
   ]
  },
  {
   "cell_type": "code",
   "execution_count": 23,
   "id": "00ef6d8c",
   "metadata": {},
   "outputs": [
    {
     "data": {
      "text/plain": [
       "array([], dtype=float64)"
      ]
     },
     "execution_count": 23,
     "metadata": {},
     "output_type": "execute_result"
    }
   ],
   "source": [
    "np.unique(np.array(col))"
   ]
  },
  {
   "cell_type": "code",
   "execution_count": 24,
   "id": "6f6f4f41",
   "metadata": {},
   "outputs": [],
   "source": [
    "samples_train, samples_val = train_test_split(samples, test_size=0.2, random_state=101)\n",
    "samples_train, samples_test = train_test_split(samples_train, test_size=0.15, random_state=101)"
   ]
  },
  {
   "cell_type": "code",
   "execution_count": 25,
   "id": "a6a94a1a",
   "metadata": {},
   "outputs": [
    {
     "data": {
      "text/plain": [
       "(304, 54, 90)"
      ]
     },
     "execution_count": 25,
     "metadata": {},
     "output_type": "execute_result"
    }
   ],
   "source": [
    "len(samples_train), len(samples_test), len(samples_val)"
   ]
  },
  {
   "cell_type": "code",
   "execution_count": 26,
   "id": "c1383900",
   "metadata": {},
   "outputs": [],
   "source": [
    "\n",
    "scans_path = \"C:\\\\Users\\\\rohit\\\\.cache\\\\kagglehub\\\\datasets\\\\happyharrycn\\\\uw-madison-gi-tract-image-segmentation-dataset\\\\versions\\\\1\\\\dataset\\\\case117\\\\case117_day15\\\\scans\" \n",
    "contours_path = \"C:\\\\Users\\\\rohit\\\\.cache\\\\kagglehub\\\\datasets\\\\happyharrycn\\\\uw-madison-gi-tract-image-segmentation-dataset\\\\versions\\\\1\\\\dataset\\\\case117\\\\case117_day15\\\\contours\\\\masks_rle.csv\""
   ]
  },
  {
   "cell_type": "code",
   "execution_count": 27,
   "id": "2b2be8cc",
   "metadata": {},
   "outputs": [],
   "source": [
    "def load_scans(scans_path, contours_path):\n",
    "    for root, dir, files in os.walk(scans_path):\n",
    "        seg_mask = np.zeros((len(files), 256, 256), dtype=np.float32)\n",
    "        raw_scans = np.zeros((len(files), 256, 256), dtype=np.float32)\n",
    "        for i, file in enumerate(files): \n",
    "            img = cv2.imread(os.path.join(root, file), 0)\n",
    "            img = process_image(img)\n",
    "            df = pd.read_csv(contours_path)\n",
    "            slice_id = file[:10]\n",
    "            df = df[df['SliceID'] ==  slice_id]\n",
    "            w, h = df['ImgShape (WxH)'].iloc[0].split()\n",
    "            h,w = int(w), int(h)\n",
    "            assert h==img.shape[1] and w==img.shape[0]\n",
    "            if seg_mask.shape[1]!=w and seg_mask.shape[2]!=h:\n",
    "                seg_mask = np.zeros((len(files), w, h), dtype=np.float32)\n",
    "                raw_scans = np.zeros((len(files), w, h), dtype=np.float32)\n",
    "            dummy_mask = np.zeros((w, h), dtype=np.float32)\n",
    "            for j in range(len(df)):\n",
    "                mask_rle = df['EncodedPixels'].iloc[j]\n",
    "                mask = np.zeros((w, h), dtype=np.float32)\n",
    "                if mask_rle != -1 and mask_rle != '-1' and mask_rle != '':\n",
    "                    mask = rle_decode(mask_rle, shape=(w, h),dtype= np.float32)\n",
    "                # plt.imshow(mask)\n",
    "                # plt.show()\n",
    "                dummy_mask[mask==1] = 0\n",
    "                mask[mask==1] = j+1\n",
    "                dummy_mask+= mask\n",
    "            seg_mask[i,:,:] = dummy_mask\n",
    "            raw_scans[i,:,:] = img\n",
    "        break\n",
    "    return raw_scans, seg_mask"
   ]
  },
  {
   "cell_type": "code",
   "execution_count": 28,
   "id": "4015fd78",
   "metadata": {},
   "outputs": [],
   "source": [
    "raw_scans, seg_mask = load_scans(scans_path, contours_path)"
   ]
  },
  {
   "cell_type": "code",
   "execution_count": 29,
   "id": "f839f539",
   "metadata": {},
   "outputs": [
    {
     "data": {
      "text/plain": [
       "(80, 276, 276)"
      ]
     },
     "execution_count": 29,
     "metadata": {},
     "output_type": "execute_result"
    }
   ],
   "source": [
    "raw_scans.shape"
   ]
  },
  {
   "cell_type": "code",
   "execution_count": 30,
   "id": "ba81f594",
   "metadata": {},
   "outputs": [],
   "source": [
    "VOLUME_SLICES = 70\n",
    "VOLUME_START_AT = 45"
   ]
  },
  {
   "cell_type": "code",
   "execution_count": 31,
   "id": "c6461c58",
   "metadata": {},
   "outputs": [],
   "source": [
    "IMG_SIZE = 128\n",
    "\n",
    "class ImageProcessor(Dataset):\n",
    "    def __init__(self, image_ids, dim=(IMG_SIZE, IMG_SIZE), batch_size=1, shuffle=True):\n",
    "        self.image_ids = image_ids\n",
    "        self.dim = dim\n",
    "        self.batch_size = batch_size\n",
    "        self.shuffle = shuffle\n",
    "        self.on_epoch_end()\n",
    "        \n",
    "    def __len__(self):\n",
    "        return int(np.floor(len(self.image_ids)/ self.batch_size))\n",
    "    \n",
    "    def __getitem__(self, index):\n",
    "        'Generate one batch of data'\n",
    "        # Generate indexes of the batch\n",
    "        #batch = 1 means batch_id will have 1 element, batch = 10, batch_ids will have 10 elemets\n",
    "        indexes = self.indexes[index*self.batch_size:(index+1)*self.batch_size]\n",
    "\n",
    "        # Find list of IDs\n",
    "        Batch_ids = [self.image_ids[k] for k in indexes]\n",
    "\n",
    "        # Load & Generate data\n",
    "        X, y = self.__data_generation(Batch_ids)\n",
    "\n",
    "        return X, y\n",
    "    \n",
    "    def load_scans(self, scans_path, contours_path):\n",
    "        for root, dir, files in os.walk(scans_path):\n",
    "            seg_mask = np.zeros((len(files), 256, 256), dtype=np.float32)\n",
    "            raw_scans = np.zeros((len(files), 256, 256), dtype=np.float32)\n",
    "            for i, file in enumerate(files): \n",
    "                img = cv2.imread(os.path.join(root, file), 0)\n",
    "                img = process_image(img)\n",
    "                df = pd.read_csv(contours_path)\n",
    "                slice_id = file[:10]\n",
    "                df = df[df['SliceID'] ==  slice_id]\n",
    "                w, h = df['ImgShape (WxH)'].iloc[0].split()\n",
    "                h,w = int(w), int(h)\n",
    "                assert h==img.shape[1] and w==img.shape[0]\n",
    "                if seg_mask.shape[1]!=w and seg_mask.shape[2]!=h:\n",
    "                    seg_mask = np.zeros((len(files), w, h), dtype=np.float32)\n",
    "                    raw_scans = np.zeros((len(files), w, h), dtype=np.float32)\n",
    "                dummy_mask = np.zeros((w, h), dtype=np.float32)\n",
    "                for j in range(len(df)):\n",
    "                    mask_rle = df['EncodedPixels'].iloc[j]\n",
    "                    mask = np.zeros((w, h), dtype=np.float32)\n",
    "                    if mask_rle != -1 and mask_rle != '-1' and mask_rle != '':\n",
    "                        mask = rle_decode(mask_rle, shape=(w, h),dtype= np.float32)\n",
    "                    # plt.imshow(mask)\n",
    "                    # plt.show()\n",
    "                    dummy_mask[mask==1] = 0\n",
    "                    mask[mask==1] = j+1\n",
    "                    dummy_mask+= mask\n",
    "                seg_mask[i,:,:] = dummy_mask\n",
    "                raw_scans[i,:,:] = img\n",
    "            break\n",
    "        return raw_scans, seg_mask\n",
    "    \n",
    "    def on_epoch_end(self):\n",
    "        'Updates indexes after each epoch'\n",
    "        self.indexes = np.arange(len(self.image_ids))\n",
    "        if self.shuffle == True:\n",
    "            np.random.shuffle(self.indexes)\n",
    "            \n",
    "    def __data_generation(self, Batch_ids):\n",
    "        'Generates data containing batch_size samples'\n",
    "        # Initialization\n",
    "        X = np.zeros(( self.batch_size*VOLUME_SLICES,1, *self.dim))\n",
    "        y = np.zeros((self.batch_size*VOLUME_SLICES, 240, 240))\n",
    "\n",
    "        # Generate data\n",
    "        for c, patient_path in enumerate(Batch_ids):\n",
    "            # Get path of each RMI modality and the segmentation\n",
    "            scans_path = os.path.join(patient_path, 'scans')\n",
    "            contours_path = os.path.join(patient_path, 'contours','masks_rle.csv')\n",
    "            # Extract the data from these paths\n",
    "            raw_scans, seg = self.load_scans(scans_path, contours_path)\n",
    "            #t1 = nib.load(t1_paths).get_fdata()\n",
    "            #t2 = nib.load(t2_path).get_fdata()\n",
    "            \n",
    "            \n",
    "        \n",
    "            for j in range(VOLUME_SLICES):\n",
    "                #arithmetic series\n",
    "                X[j +VOLUME_SLICES*c,0,:,:] = cv2.resize(raw_scans[j+VOLUME_START_AT,:,:], (IMG_SIZE, IMG_SIZE))\n",
    "                if y.shape[1]!=seg.shape[1] and y.shape[2]!=seg.shape[2]:\n",
    "                    y = np.zeros((self.batch_size*VOLUME_SLICES, *seg.shape[1:]))\n",
    "                y[j +VOLUME_SLICES*c] = seg[j+VOLUME_START_AT,:,:]\n",
    "        X_normalized = X/np.max(X)\n",
    "        X_normalized = torch.FloatTensor(X_normalized)       \n",
    "        # Masks / Segmentations\n",
    "        mask = torch.nn.functional.one_hot(torch.LongTensor(y), 6)\n",
    "        mask = mask.permute(0, 3, 1, 2)\n",
    "        Y = torch.nn.functional.interpolate(mask.float(), size=(IMG_SIZE, IMG_SIZE), mode='nearest')\n",
    "        Y =  Y.long().permute(0, 1, 2, 3)\n",
    "        print(X_normalized.shape, Y.shape)\n",
    "        # Scale data between 0 and 1 (since the minimum value in the data is 0)\n",
    "        return X_normalized, Y"
   ]
  },
  {
   "cell_type": "code",
   "execution_count": 32,
   "id": "6bd7a31d",
   "metadata": {},
   "outputs": [],
   "source": [
    "training_generator = ImageProcessor(samples_train)\n",
    "valid_generator = ImageProcessor(samples_val)\n",
    "test_generator = ImageProcessor(samples_test)"
   ]
  },
  {
   "cell_type": "code",
   "execution_count": 33,
   "id": "7b078f4b",
   "metadata": {},
   "outputs": [
    {
     "name": "stdout",
     "output_type": "stream",
     "text": [
      "torch.Size([70, 1, 128, 128]) torch.Size([70, 6, 128, 128])\n"
     ]
    }
   ],
   "source": [
    "a = training_generator[0][0]"
   ]
  },
  {
   "cell_type": "code",
   "execution_count": 34,
   "id": "89a80b9d",
   "metadata": {},
   "outputs": [
    {
     "data": {
      "text/plain": [
       "304"
      ]
     },
     "execution_count": 34,
     "metadata": {},
     "output_type": "execute_result"
    }
   ],
   "source": [
    "len(training_generator)"
   ]
  },
  {
   "cell_type": "code",
   "execution_count": 35,
   "id": "98eea627",
   "metadata": {},
   "outputs": [
    {
     "name": "stdout",
     "output_type": "stream",
     "text": [
      "torch.Size([70, 1, 128, 128]) torch.Size([70, 6, 128, 128])\n",
      "torch.Size([70, 1, 128, 128]) torch.Size([70, 6, 128, 128])\n"
     ]
    },
    {
     "name": "stderr",
     "output_type": "stream",
     "text": [
      "C:\\Users\\rohit\\AppData\\Local\\Temp\\ipykernel_16576\\3593919845.py:2: DeprecationWarning: __array_wrap__ must accept context and return_scalar arguments (positionally) in the future. (Deprecated NumPy 2.0)\n",
      "  plt.imshow(training_generator[10][0][50,:,:,0]+training_generator[10][1][50,:,:,0].detach().numpy(), cmap='viridis')\n"
     ]
    },
    {
     "data": {
      "text/plain": [
       "<matplotlib.image.AxesImage at 0x26e0659eb50>"
      ]
     },
     "execution_count": 35,
     "metadata": {},
     "output_type": "execute_result"
    },
    {
     "data": {
      "image/png": "[encoded data removed]",
      "text/plain": [
       "<Figure size 640x480 with 1 Axes>"
      ]
     },
     "metadata": {},
     "output_type": "display_data"
    }
   ],
   "source": [
    "plt.figure()\n",
    "plt.imshow(training_generator[10][0][50,:,:,0]+training_generator[10][1][50,:,:,0].detach().numpy(), cmap='viridis')"
   ]
  },
  {
   "cell_type": "code",
   "execution_count": 32,
   "id": "8e402602",
   "metadata": {},
   "outputs": [],
   "source": [
    "# create a batch of 10"
   ]
  },
  {
   "cell_type": "code",
   "execution_count": 74,
   "id": "8f06020b",
   "metadata": {},
   "outputs": [
    {
     "name": "stdout",
     "output_type": "stream",
     "text": [
      "torch.Size([70, 1, 128, 128]) torch.Size([70, 6, 128, 128])\n"
     ]
    }
   ],
   "source": [
    "for X_train, y_train in training_generator:\n",
    "    break"
   ]
  },
  {
   "cell_type": "code",
   "execution_count": 91,
   "id": "fef90c1b",
   "metadata": {},
   "outputs": [
    {
     "data": {
      "text/plain": [
       "(torch.Size([70, 1, 128, 128]), torch.Size([70, 6, 128, 128]))"
      ]
     },
     "execution_count": 91,
     "metadata": {},
     "output_type": "execute_result"
    }
   ],
   "source": [
    "X_train.shape, y_train.shape"
   ]
  },
  {
   "cell_type": "code",
   "execution_count": 78,
   "id": "c57853e2",
   "metadata": {},
   "outputs": [
    {
     "data": {
      "text/plain": [
       "torch.Size([1, 1, 128, 128])"
      ]
     },
     "execution_count": 78,
     "metadata": {},
     "output_type": "execute_result"
    }
   ],
   "source": [
    "X_train[0:1,:,:,:].shape"
   ]
  },
  {
   "cell_type": "code",
   "execution_count": 85,
   "id": "95174e62",
   "metadata": {},
   "outputs": [],
   "source": [
    "x = X_train[0:1,:,:,:]"
   ]
  },
  {
   "cell_type": "code",
   "execution_count": 86,
   "id": "1aafb1ed",
   "metadata": {},
   "outputs": [],
   "source": [
    "# conv layers\n",
    "conv1 = torch.nn.Conv2d(1, 32, 3, 1,1)\n",
    "conv2 = torch.nn.Conv2d(32, 32, 3, 1,1)"
   ]
  },
  {
   "cell_type": "code",
   "execution_count": 87,
   "id": "1f0ccf26",
   "metadata": {},
   "outputs": [],
   "source": [
    "x = torch.nn.functional.relu(conv1(x))\n",
    "x = torch.nn.functional.relu(conv2(x))"
   ]
  },
  {
   "cell_type": "code",
   "execution_count": 88,
   "id": "b0b7716c",
   "metadata": {},
   "outputs": [
    {
     "data": {
      "text/plain": [
       "torch.Size([1, 32, 128, 128])"
      ]
     },
     "execution_count": 88,
     "metadata": {},
     "output_type": "execute_result"
    }
   ],
   "source": [
    "x.shape"
   ]
  },
  {
   "cell_type": "code",
   "execution_count": 89,
   "id": "69c21e31",
   "metadata": {},
   "outputs": [],
   "source": [
    "x = torch.nn.functional.max_pool2d(x,2,2)"
   ]
  },
  {
   "cell_type": "code",
   "execution_count": 90,
   "id": "e7205fdb",
   "metadata": {},
   "outputs": [
    {
     "data": {
      "text/plain": [
       "torch.Size([1, 32, 64, 64])"
      ]
     },
     "execution_count": 90,
     "metadata": {},
     "output_type": "execute_result"
    }
   ],
   "source": [
    "x.shape"
   ]
  },
  {
   "cell_type": "code",
   "execution_count": null,
   "id": "90df1374",
   "metadata": {},
   "outputs": [],
   "source": [
    "# Convolution class\n",
    "class Unet(torch.nn.Module):\n",
    "    def  __init__(self):\n",
    "        super().__init__()\n",
    "        self.conv1_1 = torch.nn.Conv2d(1, 32, 3, 1,1)\n",
    "        self.conv1_2 = torch.nn.Conv2d(32, 32, 3, 1,1)\n",
    "        \n",
    "        self.conv2_1 = torch.nn.Conv2d(32, 64, 3, 1,1)\n",
    "        self.conv2_2 = torch.nn.Conv2d(64, 64, 3, 1,1)\n",
    "        \n",
    "        self.conv3_1 = torch.nn.Conv2d(64, 128, 3, 1,1)\n",
    "        self.conv3_2 = torch.nn.Conv2d(128, 128, 3, 1,1)\n",
    "        \n",
    "        self.conv4_1 = torch.nn.Conv2d(128, 256, 3, 1,1)\n",
    "        self.conv4_2 = torch.nn.Conv2d(256, 256, 3, 1,1)\n",
    "        \n",
    "        self.conv5_1 = torch.nn.Conv2d(256, 512, 3, 1,1)\n",
    "        self.conv5_2 = torch.nn.Conv2d(512, 512, 3, 1,1)\n",
    "        \n",
    "        \n",
    "        self.upsample_1 = torch.nn.Upsample(scale_factor=2)\n",
    "        self.conv6_1 = torch.nn.Conv2d(512, 256, 2, 1,1)\n",
    "        self.conv6_2 = torch.nn.Conv2d(256, 256, 3, 1,1)\n",
    "        self.conv6_3 = torch.nn.Conv2d(256, 256, 3, 1,1) \n",
    "        \n",
    "        self.upsample_2 = torch.nn.Upsample(scale_factor=2)\n",
    "        self.conv7_1 = torch.nn.Conv2d(256, 128, 2, 1,1)\n",
    "        # torch.cat([conv3_2, conv7_1], dim=1) \n",
    "        self.conv7_2 = torch.nn.Conv2d(128, 128, 3, 1,1)\n",
    "        self.conv7_3 = torch.nn.Conv2d(128, 128, 3, 1,1) \n",
    "        \n",
    "        self.upsample_3 = torch.nn.Upsample(scale_factor=2)\n",
    "        self.conv8_1 = torch.nn.Conv2d(128, 64, 2, 1,1)\n",
    "        # torch.cat([conv2_2, conv8_1], dim=1) \n",
    "        self.conv8_2 = torch.nn.Conv2d(64, 64, 3, 1,1)\n",
    "        self.conv8_3 = torch.nn.Conv2d(64, 64, 3, 1,1) \n",
    "        \n",
    "        self.upsample_4 = torch.nn.Upsample(scale_factor=2)\n",
    "        self.conv9_1 = torch.nn.Conv2d(64, 32, 2, 1,1)\n",
    "        # torch.cat([conv1_2, conv9_1], dim=1) \n",
    "        self.conv9_2 = torch.nn.Conv2d(32, 32, 3, 1,1)\n",
    "        self.conv9_3 = torch.nn.Conv2d(32, 32, 3, 1,1) \n",
    "        \n",
    "        self.conv10 = torch.nn.Conv2d(32, 6, 1, 1,1)\n",
    "        \n",
    "    def forward(self, x):\n",
    "        conv1 = torch.nn.functional.relu(self.conv1_1(x))\n",
    "        conv1 = torch.nn.functional.relu(self.conv1_2(conv1))\n",
    "        pool1 = torch.nn.functional.max_pool2d(conv1)\n",
    "        \n",
    "        conv2 = torch.nn.functional.relu(self.conv2_1(pool1))\n",
    "        conv2 = torch.nn.functional.relu(self.conv2_2(conv2))\n",
    "        pool2 = torch.nn.functional.max_pool2d(conv2)\n",
    "        \n",
    "        conv3 = torch.nn.functional.relu(self.conv3_1(pool2))\n",
    "        conv3 = torch.nn.functional.relu(self.conv3_2(conv3))\n",
    "        pool3 = torch.nn.functional.max_pool2d(conv3)\n",
    "        \n",
    "        conv4 = torch.nn.functional.relu(self.conv4_1(pool3))\n",
    "        conv4 = torch.nn.functional.relu(self.conv4_2(conv4))\n",
    "        pool4 = torch.nn.functional.max_pool2d(conv4)\n",
    "        \n",
    "        conv5 = torch.nn.functional.relu(self.conv5_1(pool4))\n",
    "        conv5 = torch.nn.functional.relu(self.conv5_2(conv5))\n",
    "        conv5 = self.dropout(conv5)\n",
    "        \n",
    "        upsample_1 = self.upsample_1(conv5)\n",
    "        conv6 = torch.nn.functional.relu(self.conv6_1(upsample_1))\n",
    "        cat_1 = torch.cat([conv4, conv6], dim=1)\n",
    "        conv6 = torch.nn.functional.relu(self.conv6_2(cat_1))\n",
    "        conv6 = torch.nn.functional.relu(self.conv6_3(conv6))\n",
    "        \n",
    "        upsample_2 = self.upsample_2(conv6)\n",
    "        conv7 = torch.nn.functional.relu(self.conv7_1(upsample_2))\n",
    "        cat_2 = torch.cat([conv3, conv7], dim=1)\n",
    "        conv7 = torch.nn.functional.relu(self.conv7_2(cat_2))\n",
    "        conv7 = torch.nn.functional.relu(self.conv7_3(conv7))\n",
    "        \n",
    "        upsample_3 = self.upsample_3(conv7)\n",
    "        conv8 = torch.nn.functional.relu(self.conv8_1(upsample_3))\n",
    "        cat_3 = torch.cat([conv2, conv8], dim=1)\n",
    "        conv8 = torch.nn.functional.relu(self.conv8_2(cat_3))\n",
    "        conv8 = torch.nn.functional.relu(self.conv8_3(conv8))\n",
    "        \n",
    "        upsample_4 = self.upsample_4(conv8)\n",
    "        conv9 = torch.nn.functional.relu(self.conv9_1(upsample_4))\n",
    "        cat_4 = torch.cat([conv1, conv9], dim=1)\n",
    "        conv9 = torch.nn.functional.relu(self.conv9_2(cat_4))\n",
    "        conv9 = torch.nn.functional.relu(self.conv9_3(conv9))\n",
    "        \n",
    "        conv10 = self.conv10(conv9)\n",
    "        \n",
    "        output = torch.nn.functional.softmax(conv10, dim=1)\n",
    "        \n",
    "        return output\n",
    "        \n",
    "        "
   ]
  },
  {
   "cell_type": "code",
   "execution_count": 37,
   "id": "1ba0e8de",
   "metadata": {},
   "outputs": [],
   "source": [
    "model = Unet()"
   ]
  },
  {
   "cell_type": "code",
   "execution_count": 38,
   "id": "4e85f173",
   "metadata": {},
   "outputs": [
    {
     "data": {
      "text/plain": [
       "Unet(\n",
       "  (conv1_1): Conv2d(1, 32, kernel_size=(3, 3), stride=(1, 1), padding=(1, 1))\n",
       "  (conv1_2): Conv2d(32, 32, kernel_size=(3, 3), stride=(1, 1), padding=(1, 1))\n",
       "  (conv2_1): Conv2d(32, 64, kernel_size=(3, 3), stride=(1, 1), padding=(1, 1))\n",
       "  (conv2_2): Conv2d(64, 64, kernel_size=(3, 3), stride=(1, 1), padding=(1, 1))\n",
       "  (conv3_1): Conv2d(64, 128, kernel_size=(3, 3), stride=(1, 1), padding=(1, 1))\n",
       "  (conv3_2): Conv2d(128, 128, kernel_size=(3, 3), stride=(1, 1), padding=(1, 1))\n",
       "  (conv4_1): Conv2d(128, 256, kernel_size=(3, 3), stride=(1, 1), padding=(1, 1))\n",
       "  (conv4_2): Conv2d(256, 256, kernel_size=(3, 3), stride=(1, 1), padding=(1, 1))\n",
       "  (conv5_1): Conv2d(256, 512, kernel_size=(3, 3), stride=(1, 1), padding=(1, 1))\n",
       "  (conv5_2): Conv2d(512, 512, kernel_size=(3, 3), stride=(1, 1), padding=(1, 1))\n",
       "  (upsample_1): Upsample(scale_factor=2.0, mode='nearest')\n",
       "  (conv6_1): Conv2d(512, 256, kernel_size=(2, 2), stride=(1, 1), padding=(1, 1))\n",
       "  (conv6_2): Conv2d(256, 256, kernel_size=(3, 3), stride=(1, 1), padding=(1, 1))\n",
       "  (conv6_3): Conv2d(256, 256, kernel_size=(3, 3), stride=(1, 1), padding=(1, 1))\n",
       "  (upsample_2): Upsample(scale_factor=2.0, mode='nearest')\n",
       "  (conv7_1): Conv2d(256, 128, kernel_size=(2, 2), stride=(1, 1), padding=(1, 1))\n",
       "  (conv7_2): Conv2d(128, 128, kernel_size=(3, 3), stride=(1, 1), padding=(1, 1))\n",
       "  (conv7_3): Conv2d(128, 128, kernel_size=(3, 3), stride=(1, 1), padding=(1, 1))\n",
       "  (upsample_3): Upsample(scale_factor=2.0, mode='nearest')\n",
       "  (conv8_1): Conv2d(128, 64, kernel_size=(2, 2), stride=(1, 1), padding=(1, 1))\n",
       "  (conv8_2): Conv2d(64, 64, kernel_size=(3, 3), stride=(1, 1), padding=(1, 1))\n",
       "  (conv8_3): Conv2d(64, 64, kernel_size=(3, 3), stride=(1, 1), padding=(1, 1))\n",
       "  (upsample_4): Upsample(scale_factor=2.0, mode='nearest')\n",
       "  (conv9_1): Conv2d(64, 32, kernel_size=(2, 2), stride=(1, 1), padding=(1, 1))\n",
       "  (conv9_2): Conv2d(32, 32, kernel_size=(3, 3), stride=(1, 1), padding=(1, 1))\n",
       "  (conv9_3): Conv2d(32, 32, kernel_size=(3, 3), stride=(1, 1), padding=(1, 1))\n",
       "  (conv10): Conv2d(32, 6, kernel_size=(1, 1), stride=(1, 1), padding=(1, 1))\n",
       ")"
      ]
     },
     "execution_count": 38,
     "metadata": {},
     "output_type": "execute_result"
    }
   ],
   "source": [
    "model"
   ]
  },
  {
   "cell_type": "code",
   "execution_count": null,
   "id": "a7c89e31",
   "metadata": {},
   "outputs": [],
   "source": []
  }
 ],
 "metadata": {
  "kernelspec": {
   "display_name": "cv_env_20250327",
   "language": "python",
   "name": "python3"
  },
  "language_info": {
   "codemirror_mode": {
    "name": "ipython",
    "version": 3
   },
   "file_extension": ".py",
   "mimetype": "text/x-python",
   "name": "python",
   "nbconvert_exporter": "python",
   "pygments_lexer": "ipython3",
   "version": "3.11.11"
  }
 },
 "nbformat": 4,
 "nbformat_minor": 5
}
